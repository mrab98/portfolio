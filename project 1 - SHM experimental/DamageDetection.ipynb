{
  "cells": [
    {
      "cell_type": "markdown",
      "metadata": {
        "id": "Ko-3w5ahytsa"
      },
      "source": [
        "## **Damage Detection Using Ensemble Learning: A Comprehensive Analysis and Implementation Notebook**\n",
        "---\n",
        "\n"
      ]
    },
    {
      "cell_type": "markdown",
      "metadata": {
        "id": "GzhjArf-EmPg"
      },
      "source": [
        "# Importing necessary packages\n",
        "\n"
      ]
    },
    {
      "cell_type": "code",
      "execution_count": null,
      "metadata": {
        "id": "_Ki-7Cx_uYNR"
      },
      "outputs": [],
      "source": [
        "import os\n",
        "import tensorflow as tf\n",
        "from tensorflow.keras.layers import Dense, BatchNormalization, Dropout, Activation\n",
        "import tensorflow_datasets as tfds\n",
        "# from keras.utils.vis_utils import plot_model"
      ]
    },
    {
      "cell_type": "code",
      "execution_count": null,
      "metadata": {
        "id": "DIyUV310SdUU"
      },
      "outputs": [],
      "source": [
        "import pandas as pd\n",
        "from google.colab import data_table\n",
        "data_table.enable_dataframe_formatter()\n",
        "from google.colab import drive\n",
        "import scipy.io\n",
        "import numpy as np\n",
        "import matplotlib.pyplot as plt\n",
        "\n",
        "from sklearn.model_selection import train_test_split\n",
        "from sklearn.svm import SVC\n",
        "from sklearn.ensemble import RandomForestClassifier\n",
        "from sklearn.metrics import accuracy_score, classification_report\n",
        "from sklearn.preprocessing import StandardScaler\n",
        "from sklearn.pipeline import make_pipeline\n",
        "from sklearn.neural_network import MLPClassifier\n",
        "from sklearn.utils import class_weight\n",
        "\n",
        "import pickle\n",
        "\n",
        "# !pip install -Uqq ipdb\n",
        "# import ipdb"
      ]
    },
    {
      "cell_type": "code",
      "execution_count": null,
      "metadata": {
        "colab": {
          "base_uri": "https://localhost:8080/"
        },
        "id": "YY3mAT1HKfzR",
        "outputId": "03b6bae1-4653-4431-9635-08a7967153cd"
      },
      "outputs": [
        {
          "output_type": "stream",
          "name": "stdout",
          "text": [
            "GPU is available\n",
            "[PhysicalDevice(name='/physical_device:GPU:0', device_type='GPU')]\n"
          ]
        }
      ],
      "source": [
        "if tf.test.gpu_device_name():\n",
        "  print('GPU is available')\n",
        "  print(tf.config.list_physical_devices('GPU'))"
      ]
    },
    {
      "cell_type": "markdown",
      "metadata": {
        "id": "ymzrM00AEzmf"
      },
      "source": [
        "# Importing the different datasets with distinct input features (PCA, RMSD, and extra)\n",
        "In this section of the Python notebook, we will import various datasets that contain different sets of input features. These features include PCA (Principal Component Analysis), RMSD (Root Mean Square Deviation), and additional features."
      ]
    },
    {
      "cell_type": "code",
      "execution_count": null,
      "metadata": {
        "colab": {
          "base_uri": "https://localhost:8080/"
        },
        "id": "dUlaQb4cuoGz",
        "outputId": "f2719c21-e420-4dc1-a824-4fa24d8a8cfb"
      },
      "outputs": [
        {
          "output_type": "stream",
          "name": "stdout",
          "text": [
            "Drive already mounted at /content/drive; to attempt to forcibly remount, call drive.mount(\"/content/drive\", force_remount=True).\n"
          ]
        }
      ],
      "source": [
        "drive.mount('/content/drive')\n",
        "mat_file_path = '/content/drive/MyDrive/Master Thesis/EMI-data/RMSDPCA4Regions10.mat'\n",
        "data = scipy.io.loadmat(mat_file_path)"
      ]
    },
    {
      "cell_type": "code",
      "execution_count": null,
      "metadata": {
        "colab": {
          "base_uri": "https://localhost:8080/"
        },
        "id": "bFlnJYucdNGI",
        "outputId": "69e0db00-030f-41e5-d1b1-8b331db9db45"
      },
      "outputs": [
        {
          "output_type": "stream",
          "name": "stdout",
          "text": [
            "dict_keys(['__header__', '__version__', '__globals__', 'OutputTest', 'OutputTrain', 'OutputVal', 'inputTest', 'inputTrain', 'inputVal'])\n"
          ]
        }
      ],
      "source": [
        "print(data.keys())"
      ]
    },
    {
      "cell_type": "markdown",
      "metadata": {
        "id": "Tc_M-3S0FRNm"
      },
      "source": [
        "# Allocating Key-Value Pairs from Mat Data to Tensors\n",
        "In this section, we will focus on allocating key-value pairs from a Mat data file to tensors. The Mat file contains structured data with keys representing different features or variables, and values containing the corresponding data arrays. Our goal is to efficiently extract this data and convert it into tensor format, which is commonly used in deep learning frameworks like TensorFlow."
      ]
    },
    {
      "cell_type": "code",
      "execution_count": null,
      "metadata": {
        "id": "06iqiQajTmJI"
      },
      "outputs": [],
      "source": [
        "input_Test=tf.convert_to_tensor(data['inputTest'])\n",
        "input_Val=tf.convert_to_tensor(data['inputVal'])\n",
        "input_train=tf.convert_to_tensor(data['inputTrain'])\n",
        "\n",
        "output_Test=tf.convert_to_tensor(data['OutputTest'])\n",
        "output_Val=tf.convert_to_tensor(data['OutputVal'])\n",
        "output_train=tf.convert_to_tensor(data['OutputTrain'])\n"
      ]
    },
    {
      "cell_type": "code",
      "execution_count": null,
      "metadata": {
        "id": "NP5krOQ5lbim"
      },
      "outputs": [],
      "source": [
        "# pd.DataFrame(input_Val)"
      ]
    },
    {
      "cell_type": "markdown",
      "metadata": {
        "id": "qO4SCOx3HbIf"
      },
      "source": [
        "# One-Hot Encoding of Training, Validation, and Test Datasets\n",
        "In this section of the notebook, we will perform one-hot encoding on the training, validation, and test datasets. One-hot encoding is a common technique used to transform categorical variables into a binary representation that can be effectively used by machine learning algorithms.\n",
        "By applying one-hot encoding, we will convert categorical variables in our datasets into binary columns, where each column represents a unique category. This transformation enables us to incorporate categorical information into our models accurately and efficiently."
      ]
    },
    {
      "cell_type": "code",
      "execution_count": null,
      "metadata": {
        "id": "xGtru0BllOzw"
      },
      "outputs": [],
      "source": [
        "# One hot encoding of train, val and test dataset\n",
        "\n",
        "regions=tf.gather(output_train,1,axis=1)\n",
        "regions2=tf.gather(output_Val,1,axis=1)\n",
        "regions3=tf.gather(output_Test,1,axis=1)\n",
        "\n",
        "# pd.DataFrame(regions)\n",
        "regions=tf.one_hot(regions,depth=4,axis=0)\n",
        "regions2=tf.one_hot(regions2,depth=4,axis=0)\n",
        "regions3=tf.one_hot(regions3,depth=4,axis=0)\n",
        "\n",
        "regions=tf.transpose(regions)\n",
        "regions2=tf.transpose(regions2)\n",
        "regions3=tf.transpose(regions3)\n",
        "# pd.DataFrame(regions)\n",
        "# output_Val\n",
        "# output_Test"
      ]
    },
    {
      "cell_type": "markdown",
      "metadata": {
        "id": "G_IL7DDSSOOS"
      },
      "source": [
        "# Separating Data for Classification and Regression Loss\n",
        "In this section, we will split our dataset into two subsets: one for classification tasks and the other for regression tasks. This separation is crucial as different machine learning models and loss functions are often employed for these distinct problem types."
      ]
    },
    {
      "cell_type": "code",
      "execution_count": null,
      "metadata": {
        "id": "oX8TOaUAncKl"
      },
      "outputs": [],
      "source": [
        "# output_reg=output_train[:,[1,2]]\n",
        "# output_reg = tf.gather(output_train, [1, 2], axis=1)\n",
        "# output_log = tf.gather(output_train, 0, axis=1)\n",
        "sever=tf.gather(output_train,0,axis=1)\n",
        "sever = tf.cast(sever, dtype=tf.float32)\n",
        "sever=tf.reshape(sever, shape=(-1, 1))\n",
        "output_reg=tf.concat([sever,regions],axis=1)\n",
        "# pd.DataFrame(output_reg)\n",
        "\n",
        "sever=tf.gather(output_Val,0,axis=1)\n",
        "sever = tf.cast(sever, dtype=tf.float32)\n",
        "sever=tf.reshape(sever, shape=(-1, 1))\n",
        "output_regVal=tf.concat([sever,regions2],axis=1)\n",
        "\n",
        "sever=tf.gather(output_Test,0,axis=1)\n",
        "sever = tf.cast(sever, dtype=tf.float32)\n",
        "sever=tf.reshape(sever, shape=(-1, 1))\n",
        "output_regTest=tf.concat([sever,regions3],axis=1)\n",
        "\n",
        "# pd.DataFrame(output_regVal)\n",
        "# pd.DataFrame(output_reg)\n",
        "# output_regVal = tf.gather(output_Val, [1, 2], axis=1)\n",
        "# output_logVal = tf.gather(output_Val, 0, axis=1)"
      ]
    },
    {
      "cell_type": "markdown",
      "metadata": {
        "id": "0uIZ-DyzSD9S"
      },
      "source": [
        "# Selecting Input Features based on PCA Results and Variance\n",
        "After applying PCA to our data, we have obtained the results that capture the variance explained by each principal component."
      ]
    },
    {
      "cell_type": "code",
      "execution_count": null,
      "metadata": {
        "id": "_O_QACtjxEVf"
      },
      "outputs": [],
      "source": [
        "# output_reg=output_train\n",
        "# output_regVal=output_Val\n",
        "# pd.DataFrame(output_regVal)\n",
        "FeatureNum=58\n",
        "startF=0\n",
        "endF=51\n",
        "input_train=tf.gather(input_train,(range(0,FeatureNum)),axis=1)\n",
        "input_Val=tf.gather(input_Val,(range(0,FeatureNum)),axis=1)\n",
        "input_Test=tf.gather(input_Test,(range(0,FeatureNum)),axis=1)\n",
        "# pd.DataFrame(input_train)"
      ]
    },
    {
      "cell_type": "code",
      "execution_count": null,
      "metadata": {
        "id": "OMzdYDvA-Xna"
      },
      "outputs": [],
      "source": [
        "seed = 42\n",
        "tf.random.set_seed(seed)\n",
        "\n",
        "# # Shuffle the data tensors together\n",
        "shuffled_indices = tf.range(start=0, limit=tf.shape(input_train)[0], dtype=tf.int32)\n",
        "shuffled_indices = tf.random.shuffle(shuffled_indices, seed=seed)\n",
        "input_train = tf.gather(input_train, shuffled_indices)\n",
        "output_reg = tf.gather(output_reg, shuffled_indices)\n",
        "# # output_log = tf.gather(output_log, shuffled_indices)\n",
        "\n",
        "\n",
        "shuffled_indices = tf.range(start=0, limit=tf.shape(input_Val)[0], dtype=tf.int32)\n",
        "shuffled_indices = tf.random.shuffle(shuffled_indices, seed=seed)\n",
        "input_Val = tf.gather(input_Val, shuffled_indices)\n",
        "output_regVal = tf.gather(output_regVal, shuffled_indices)\n",
        "\n",
        "shuffled_indices = tf.range(start=0, limit=tf.shape(input_Test)[0], dtype=tf.int32)\n",
        "shuffled_indices = tf.random.shuffle(shuffled_indices, seed=seed)\n",
        "input_Test = tf.gather(input_Test, shuffled_indices)\n",
        "output_regTest = tf.gather(output_regTest, shuffled_indices)"
      ]
    },
    {
      "cell_type": "code",
      "execution_count": null,
      "metadata": {
        "id": "BBcUnAoZLwPt"
      },
      "outputs": [],
      "source": [
        "output_sev_val=tf.gather(output_regVal,0 ,axis=1)\n",
        "output_label_val=tf.gather(output_regVal,range(1,output_reg.shape[1]),axis=1)\n",
        "\n",
        "output_sev=tf.gather(output_reg,0 ,axis=1)\n",
        "output_label=tf.gather(output_reg,range(1,output_reg.shape[1]),axis=1)\n",
        "\n",
        "output_sev_Test=tf.gather(output_regTest,0 ,axis=1)\n",
        "output_label_Test=tf.gather(output_regTest,range(1,output_reg.shape[1]),axis=1)\n",
        "# pd.DataFrame(output_label_val)\n",
        "# pd.DataFrame(output_sev_val)\n",
        "# output_logVal = tf.gather(output_logVal, shuffled_indices)"
      ]
    },
    {
      "cell_type": "markdown",
      "metadata": {
        "id": "7_Ciynysr-fA"
      },
      "source": [
        "Adapting a Normalization Layer"
      ]
    },
    {
      "cell_type": "code",
      "execution_count": null,
      "metadata": {
        "id": "mOL0Iwryr3Aq"
      },
      "outputs": [],
      "source": [
        "normalization_layer = tf.keras.layers.Normalization(axis=-1)\n",
        "normalization_layer.adapt(input_train)\n"
      ]
    },
    {
      "cell_type": "markdown",
      "metadata": {
        "id": "-rZ4p7tFU4Mp"
      },
      "source": [
        "## Normalizing the inputs"
      ]
    },
    {
      "cell_type": "code",
      "execution_count": null,
      "metadata": {
        "id": "Y-c3JtnRU3Wn"
      },
      "outputs": [],
      "source": [
        "meanIn=tf.math.reduce_mean(input_train,axis=0)\n",
        "varIn=tf.math.reduce_std(input_train,axis=0,keepdims=True)\n",
        "\n",
        "input_train2=tf.math.divide(input_train-meanIn,varIn)\n",
        "input_Val2=tf.math.divide(input_Val-meanIn,varIn)\n",
        "input_Test2=tf.math.divide(input_Test-meanIn,varIn)\n",
        "\n",
        "input_train2=input_train\n",
        "input_Val2=input_Val\n",
        "input_Test2=input_Test\n"
      ]
    },
    {
      "cell_type": "markdown",
      "metadata": {
        "id": "fdzlsmk7k3Wo"
      },
      "source": [
        "To balance optimization across all tasks and prevent the regression output from dominating the total loss function, the regression output should be normalized, considering the classification outputs have a range of 0-1."
      ]
    },
    {
      "cell_type": "markdown",
      "metadata": {
        "id": "vVYc3s4_-Sw-"
      },
      "source": [
        "#Definnig Support Vector Machine(SVM) using sklearn"
      ]
    },
    {
      "cell_type": "code",
      "execution_count": null,
      "metadata": {
        "id": "TNfqdpqk-o0E",
        "colab": {
          "base_uri": "https://localhost:8080/"
        },
        "outputId": "f2e7c77c-4716-4202-94d8-177e93072cf7"
      },
      "outputs": [
        {
          "output_type": "stream",
          "name": "stdout",
          "text": [
            "------------------------------------------------------\n",
            "CC: 100 --gama: 0.0004 Val Accuracy: 0.9684115523465704\n",
            "******************************************************\n",
            "CC: 100 --gama: 0.0004 Test Accuracy: 0.9273959341723137\n",
            "------------------------------------------------------\n",
            "Test Classification Report:\n",
            "               precision    recall  f1-score   support\n",
            "\n",
            "           0       1.00      1.00      1.00        34\n",
            "           1       1.00      0.99      1.00       387\n",
            "           2       0.92      1.00      0.96       390\n",
            "           3       1.00      0.89      0.94       297\n",
            "\n",
            "    accuracy                           0.97      1108\n",
            "   macro avg       0.98      0.97      0.97      1108\n",
            "weighted avg       0.97      0.97      0.97      1108\n",
            "\n"
          ]
        }
      ],
      "source": [
        "# gamma=[0.0001,0.001,0.01,0.1,0.25,0.5,0.75,1,2,3,5,10,20,50,75,100]\n",
        "# CC=[100,150,200,250,300,500,1000,5000,10000]\n",
        "\n",
        "# CC=[0.75]\n",
        "# gamma=['scale']\n",
        "gamma=np.arange(0.0001,0.0015,0.0001)\n",
        "# gamma=[0.005,0.0075,0.01,0.015,0.02,0.03,0.04,0.05,0.06,0.07,0.08,0.09,0.1]\n",
        "# gamma=np.arange(0.02,0.041,0.001)\n",
        "\n",
        "# gamma=['scale']\n",
        "\n",
        "# The optimum hyperparameters\n",
        "CC=[100]\n",
        "gamma=[0.0004]\n",
        "#----------------------------\n",
        "for j in gamma:\n",
        "\n",
        "  for i in CC:\n",
        "\n",
        "    #Step 1: transfor data to numpy array\n",
        "    Y_train=tf.argmax(output_label,axis=1)\n",
        "    Y_val=tf.argmax(output_label_val,axis=1)\n",
        "    Y_Test=tf.argmax(output_label_Test,axis=1)\n",
        "\n",
        "    Y_train=Y_train.numpy()\n",
        "    inputs_train=input_train2.numpy()\n",
        "\n",
        "    Y_val=Y_val.numpy()\n",
        "    Y_Test=Y_Test.numpy()\n",
        "    inputs_Val=input_Val2.numpy()\n",
        "    inputs_Test=input_Test2.numpy()\n",
        "\n",
        "    # Step 3: Create the SVM Model with RBF Kernel\n",
        "    svm_model = SVC(C=i, kernel='rbf', degree=3, gamma=j,\n",
        "                    coef0=0.0, shrinking=True, probability=True, tol=0.0001,\n",
        "                    cache_size=200, class_weight='balanced', verbose=False, max_iter=-1, break_ties=False,\n",
        "                    random_state=None)\n",
        "\n",
        "    # clf = make_pipeline(StandardScaler(), svm_model)\n",
        "    # Step 4: Train the Model and Monitor Validation Performance\n",
        "    history = svm_model.fit(inputs_train, Y_train)\n",
        "\n",
        "    # Step 5: Make Predictions on Test Data\n",
        "    y_pred = svm_model.predict(inputs_Val)\n",
        "    y_predTest = svm_model.predict(inputs_Test)\n",
        "\n",
        "    # Step 6: Evaluate the Model on Test Data\n",
        "    accuracy = accuracy_score(Y_val, y_pred)\n",
        "    accuracy2 = accuracy_score(Y_Test, y_predTest)\n",
        "    print('------------------------------------------------------')\n",
        "    print('CC:',i,'--gama:',j,\"Val Accuracy:\", accuracy)\n",
        "    print('******************************************************')\n",
        "    print('CC:',i,'--gama:',j,\"Test Accuracy:\", accuracy2)\n",
        "    print('------------------------------------------------------')\n",
        "\n",
        "    # You can also print a detailed classification report for precision, recall, F1-score, etc.\n",
        "    print(\"Test Classification Report:\\n\", classification_report(Y_val, y_pred))"
      ]
    },
    {
      "cell_type": "code",
      "execution_count": null,
      "metadata": {
        "colab": {
          "base_uri": "https://localhost:8080/"
        },
        "id": "Uj00bWTN4hy0",
        "outputId": "164385df-749d-4204-f7f6-ec07c890fe90"
      },
      "outputs": [
        {
          "output_type": "stream",
          "name": "stdout",
          "text": [
            "------------------------------------------------------\n",
            "number of Variable: 2 Val Accuracy: 0.9088447653429603\n",
            "******************************************************\n",
            "Test Accuracy: 0.7676669893514037\n",
            "------------------------------------------------------\n",
            "Test Classification Report:\n",
            "               precision    recall  f1-score   support\n",
            "\n",
            "           0       1.00      1.00      1.00        34\n",
            "           1       1.00      1.00      1.00       387\n",
            "           2       0.80      1.00      0.89       390\n",
            "           3       0.99      0.66      0.80       297\n",
            "\n",
            "    accuracy                           0.91      1108\n",
            "   macro avg       0.95      0.92      0.92      1108\n",
            "weighted avg       0.93      0.91      0.90      1108\n",
            "\n"
          ]
        }
      ],
      "source": [
        "est=[50,100,200,300,500,600,800,1000,1500,5000]\n",
        "# est=[500,600,700,1000]\n",
        "est=[2]\n",
        "# est=[2,3,5,10,20,30]\n",
        "# est=[None]\n",
        "# est=np.arange(1,20,1)\n",
        "\n",
        "#The optimum hyperparameters\n",
        "N_Tree=100\n",
        "random_states=13\n",
        "\n",
        "for i in est:\n",
        "  #Step 1: transfor data to numpy array\n",
        "  Y_train=tf.argmax(output_label,axis=1)\n",
        "  Y_val=tf.argmax(output_label_val,axis=1)\n",
        "  Y_Test=tf.argmax(output_label_Test,axis=1)\n",
        "\n",
        "  Y_train=Y_train.numpy()\n",
        "  inputs_train=input_train2.numpy()\n",
        "\n",
        "  Y_val=Y_val.numpy()\n",
        "  Y_Test=Y_Test.numpy()\n",
        "  inputs_Val=input_Val2.numpy()\n",
        "  inputs_Test=input_Test2.numpy()\n",
        "\n",
        "  # Step 3: Create the SVM Model with RBF Kernel\n",
        "  clf = RandomForestClassifier(n_estimators=N_Tree,criterion='log_loss', max_depth=None,\n",
        "                               min_samples_split=2, min_samples_leaf=1,\n",
        "                               min_weight_fraction_leaf=0.0, max_features='sqrt',\n",
        "                               max_leaf_nodes=None, min_impurity_decrease=0.0,\n",
        "                               bootstrap=True, oob_score=False, n_jobs=None,\n",
        "                               random_state=random_states, verbose=0, warm_start=False,\n",
        "                               class_weight='balanced', ccp_alpha=0.0, max_samples=None)\n",
        "\n",
        "  # clf = make_pipeline(StandardScaler(), svm_model)\n",
        "  # Step 4: Train the Model and Monitor Validation Performance\n",
        "  history = clf.fit(inputs_train, Y_train)\n",
        "\n",
        "  # Step 5: Make Predictions on Test Data\n",
        "  y_pred = clf.predict(inputs_Val)\n",
        "  y_predTest = clf.predict(inputs_Test)\n",
        "\n",
        "  # Step 6: Evaluate the Model on Test Data\n",
        "  accuracy = accuracy_score(Y_val, y_pred)\n",
        "  accuracy2 = accuracy_score(Y_Test, y_predTest)\n",
        "  print('------------------------------------------------------')\n",
        "  print(\"number of Variable:\",i,\"Val Accuracy:\", accuracy)\n",
        "  print('******************************************************')\n",
        "  print(\"Test Accuracy:\", accuracy2)\n",
        "  print('------------------------------------------------------')\n",
        "\n",
        "  # You can also print a detailed classification report for precision, recall, F1-score, etc.\n",
        "  print(\"Test Classification Report:\\n\", classification_report(Y_val, y_pred))"
      ]
    },
    {
      "cell_type": "markdown",
      "metadata": {
        "id": "xwWL4kR77Acj"
      },
      "source": [
        "definnig a MLP neural network using sklearn"
      ]
    },
    {
      "cell_type": "markdown",
      "metadata": {
        "id": "U8fmjmzfr8iv"
      },
      "source": [
        "# Defining ML model using functional API"
      ]
    },
    {
      "cell_type": "markdown",
      "metadata": {
        "id": "XafL2qfTyaV5"
      },
      "source": [
        "##Defining a Multi-Task Loss Function\n",
        "To address the issue of potential loss domination in our multi-task learning, we implement a custom loss function that combines two built-in loss functions using a linear combination. This approach allows us to fine-tune the weights and control the performance of the loss function through the learning curve."
      ]
    },
    {
      "cell_type": "markdown",
      "metadata": {
        "id": "ozwRR_x3pUPV"
      },
      "source": [
        "Define a callback calss for evaluate the both loss in the model training"
      ]
    },
    {
      "cell_type": "code",
      "execution_count": null,
      "metadata": {
        "id": "QqyEYeQZpTJa"
      },
      "outputs": [],
      "source": [
        "# class LossHistoryCallback(tf.keras.callbacks.Callback):\n",
        "#     def on_epoch_end(self, epoch, logs=None):\n",
        "#         losses_outsev.append(logs['outsev_loss'])\n",
        "#         losses_outlabel.append(logs['outlabel_loss'])"
      ]
    },
    {
      "cell_type": "markdown",
      "metadata": {
        "id": "LAixckJV1o8n"
      },
      "source": [
        "##Defining the model"
      ]
    },
    {
      "cell_type": "code",
      "execution_count": null,
      "metadata": {
        "id": "lv2KO9M-m1J3"
      },
      "outputs": [],
      "source": [
        "def base_model(input_layer,drop_rate=0.4,c=0.0,scale=True):\n",
        "  # normalized_input = normalization_layer(input_layer)\n",
        "  normalized_input = input_layer\n",
        "\n",
        "  hidden = Dense(32,use_bias=False,kernel_regularizer=tf.keras.regularizers.l2(c))(normalized_input)\n",
        "  hidden =BatchNormalization(scale=scale)(hidden)\n",
        "  hidden =Activation('relu')(hidden)\n",
        "  hidden= Dropout(drop_rate)(hidden)\n",
        "\n",
        "\n",
        "\n",
        "  return hidden\n"
      ]
    },
    {
      "cell_type": "markdown",
      "metadata": {
        "id": "sYHQOQaku3ZQ"
      },
      "source": [
        "###Defining the model architecture"
      ]
    },
    {
      "cell_type": "code",
      "execution_count": null,
      "metadata": {
        "colab": {
          "base_uri": "https://localhost:8080/"
        },
        "id": "Y-_wA32ng7wB",
        "outputId": "b240cfb9-3511-4a3a-a73d-b15d7fe46758"
      },
      "outputs": [
        {
          "output_type": "stream",
          "name": "stdout",
          "text": [
            "Model: \"model_4\"\n",
            "__________________________________________________________________________________________________\n",
            " Layer (type)                Output Shape                 Param #   Connected to                  \n",
            "==================================================================================================\n",
            " input_5 (InputLayer)        [(None, 58)]                 0         []                            \n",
            "                                                                                                  \n",
            " dense_7 (Dense)             (None, 32)                   1856      ['input_5[0][0]']             \n",
            "                                                                                                  \n",
            " batch_normalization_7 (Bat  (None, 32)                   128       ['dense_7[0][0]']             \n",
            " chNormalization)                                                                                 \n",
            "                                                                                                  \n",
            " activation_7 (Activation)   (None, 32)                   0         ['batch_normalization_7[0][0]'\n",
            "                                                                    ]                             \n",
            "                                                                                                  \n",
            " dropout_11 (Dropout)        (None, 32)                   0         ['activation_7[0][0]']        \n",
            "                                                                                                  \n",
            " dropout_12 (Dropout)        (None, 32)                   0         ['dropout_11[0][0]']          \n",
            "                                                                                                  \n",
            " outSev (Dense)              (None, 1)                    33        ['dropout_12[0][0]']          \n",
            "                                                                                                  \n",
            " outLabel (Dense)            (None, 4)                    132       ['dropout_12[0][0]']          \n",
            "                                                                                                  \n",
            "==================================================================================================\n",
            "Total params: 2149 (8.39 KB)\n",
            "Trainable params: 2085 (8.14 KB)\n",
            "Non-trainable params: 64 (256.00 Byte)\n",
            "__________________________________________________________________________________________________\n"
          ]
        }
      ],
      "source": [
        "input_layer = tf.keras.layers.Input(shape=(input_train.shape[1],))\n",
        "\n",
        "hidden=base_model(input_layer,drop_rate=0.45,c=0.0,scale=True)\n",
        "hidden= Dropout(0.4)(hidden)\n",
        "# output design\n",
        "outLabel =Dense(4, name='outLabel',activation='softmax')(hidden)\n",
        "outSev =Dense(1, name='outSev')(hidden)\n",
        "\n",
        "# Create the model with two outputs\n",
        "model = tf.keras.models.Model(inputs=input_layer, outputs=[outSev,outLabel])\n",
        "\n",
        "# Define the loss functions for each output\n",
        "\n",
        "num_classes=4\n",
        "sample_weight = np.ones_like(Y_train,dtype=float)\n",
        "for i in range(num_classes):\n",
        "    class_samples = Y_train == i\n",
        "    class_weight = len(Y_train) / (num_classes * np.sum(class_samples))\n",
        "    sample_weight[class_samples] = class_weight\n",
        "\n",
        "\n",
        "\n",
        "losses = {\n",
        "    'outSev': 'mean_squared_error',\n",
        "    'outLabel' : 'categorical_crossentropy'\n",
        "\n",
        "}\n",
        "\n",
        "metrics = {\n",
        "    'outSev': [tf.keras.metrics.RootMeanSquaredError()],\n",
        "    'outLabel' : 'accuracy'\n",
        "}\n",
        "\n",
        "opt=tf.optimizers.Adam()\n",
        "# Compiling the model with multiple losses and loss weights\n",
        "LossWeights={'outSev':0.05,\n",
        "             'outLabel':0.95}\n",
        "\n",
        "# model.compile(optimizer=opt, loss=losses,metrics=metrics)\n",
        "model.compile(optimizer=opt, loss=losses,loss_weights=LossWeights,metrics=metrics)\n",
        "# Print the model summary\n",
        "model.summary()"
      ]
    },
    {
      "cell_type": "code",
      "execution_count": null,
      "metadata": {
        "id": "ylw6fqvei2fq",
        "colab": {
          "base_uri": "https://localhost:8080/",
          "height": 382
        },
        "outputId": "bd6888f7-3a6b-4e79-ff92-f212cdb0d54a"
      },
      "outputs": [
        {
          "output_type": "execute_result",
          "data": {
            "text/plain": [
              "                                                         optimizer  \\\n",
              "module                                            keras.optimizers   \n",
              "class_name                                                    Adam   \n",
              "config           {'name': 'Adam', 'weight_decay': None, 'clipno...   \n",
              "registered_name                                               None   \n",
              "outSev                                                         NaN   \n",
              "outLabel                                                       NaN   \n",
              "\n",
              "                                     loss  \\\n",
              "module                                NaN   \n",
              "class_name                            NaN   \n",
              "config                                NaN   \n",
              "registered_name                       NaN   \n",
              "outSev                 mean_squared_error   \n",
              "outLabel         categorical_crossentropy   \n",
              "\n",
              "                                                           metrics  \\\n",
              "module                                                         NaN   \n",
              "class_name                                                     NaN   \n",
              "config                                                         NaN   \n",
              "registered_name                                                NaN   \n",
              "outSev           [{'module': 'keras.metrics', 'class_name': 'Ro...   \n",
              "outLabel                                                  accuracy   \n",
              "\n",
              "                 loss_weights weighted_metrics run_eagerly  \\\n",
              "module                    NaN             None        None   \n",
              "class_name                NaN             None        None   \n",
              "config                    NaN             None        None   \n",
              "registered_name           NaN             None        None   \n",
              "outSev                   0.05             None        None   \n",
              "outLabel                 0.95             None        None   \n",
              "\n",
              "                steps_per_execution jit_compile  \n",
              "module                         None        None  \n",
              "class_name                     None        None  \n",
              "config                         None        None  \n",
              "registered_name                None        None  \n",
              "outSev                         None        None  \n",
              "outLabel                       None        None  "
            ],
            "text/html": [
              "\n",
              "  <div id=\"df-e1492560-09b9-4868-aaed-34e05761b404\" class=\"colab-df-container\">\n",
              "    <div>\n",
              "<style scoped>\n",
              "    .dataframe tbody tr th:only-of-type {\n",
              "        vertical-align: middle;\n",
              "    }\n",
              "\n",
              "    .dataframe tbody tr th {\n",
              "        vertical-align: top;\n",
              "    }\n",
              "\n",
              "    .dataframe thead th {\n",
              "        text-align: right;\n",
              "    }\n",
              "</style>\n",
              "<table border=\"1\" class=\"dataframe\">\n",
              "  <thead>\n",
              "    <tr style=\"text-align: right;\">\n",
              "      <th></th>\n",
              "      <th>optimizer</th>\n",
              "      <th>loss</th>\n",
              "      <th>metrics</th>\n",
              "      <th>loss_weights</th>\n",
              "      <th>weighted_metrics</th>\n",
              "      <th>run_eagerly</th>\n",
              "      <th>steps_per_execution</th>\n",
              "      <th>jit_compile</th>\n",
              "    </tr>\n",
              "  </thead>\n",
              "  <tbody>\n",
              "    <tr>\n",
              "      <th>module</th>\n",
              "      <td>keras.optimizers</td>\n",
              "      <td>NaN</td>\n",
              "      <td>NaN</td>\n",
              "      <td>NaN</td>\n",
              "      <td>None</td>\n",
              "      <td>None</td>\n",
              "      <td>None</td>\n",
              "      <td>None</td>\n",
              "    </tr>\n",
              "    <tr>\n",
              "      <th>class_name</th>\n",
              "      <td>Adam</td>\n",
              "      <td>NaN</td>\n",
              "      <td>NaN</td>\n",
              "      <td>NaN</td>\n",
              "      <td>None</td>\n",
              "      <td>None</td>\n",
              "      <td>None</td>\n",
              "      <td>None</td>\n",
              "    </tr>\n",
              "    <tr>\n",
              "      <th>config</th>\n",
              "      <td>{'name': 'Adam', 'weight_decay': None, 'clipno...</td>\n",
              "      <td>NaN</td>\n",
              "      <td>NaN</td>\n",
              "      <td>NaN</td>\n",
              "      <td>None</td>\n",
              "      <td>None</td>\n",
              "      <td>None</td>\n",
              "      <td>None</td>\n",
              "    </tr>\n",
              "    <tr>\n",
              "      <th>registered_name</th>\n",
              "      <td>None</td>\n",
              "      <td>NaN</td>\n",
              "      <td>NaN</td>\n",
              "      <td>NaN</td>\n",
              "      <td>None</td>\n",
              "      <td>None</td>\n",
              "      <td>None</td>\n",
              "      <td>None</td>\n",
              "    </tr>\n",
              "    <tr>\n",
              "      <th>outSev</th>\n",
              "      <td>NaN</td>\n",
              "      <td>mean_squared_error</td>\n",
              "      <td>[{'module': 'keras.metrics', 'class_name': 'Ro...</td>\n",
              "      <td>0.05</td>\n",
              "      <td>None</td>\n",
              "      <td>None</td>\n",
              "      <td>None</td>\n",
              "      <td>None</td>\n",
              "    </tr>\n",
              "    <tr>\n",
              "      <th>outLabel</th>\n",
              "      <td>NaN</td>\n",
              "      <td>categorical_crossentropy</td>\n",
              "      <td>accuracy</td>\n",
              "      <td>0.95</td>\n",
              "      <td>None</td>\n",
              "      <td>None</td>\n",
              "      <td>None</td>\n",
              "      <td>None</td>\n",
              "    </tr>\n",
              "  </tbody>\n",
              "</table>\n",
              "</div>\n",
              "    <div class=\"colab-df-buttons\">\n",
              "\n",
              "  <div class=\"colab-df-container\">\n",
              "    <button class=\"colab-df-convert\" onclick=\"convertToInteractive('df-e1492560-09b9-4868-aaed-34e05761b404')\"\n",
              "            title=\"Convert this dataframe to an interactive table.\"\n",
              "            style=\"display:none;\">\n",
              "\n",
              "  <svg xmlns=\"http://www.w3.org/2000/svg\" height=\"24px\" viewBox=\"0 -960 960 960\">\n",
              "    <path d=\"M120-120v-720h720v720H120Zm60-500h600v-160H180v160Zm220 220h160v-160H400v160Zm0 220h160v-160H400v160ZM180-400h160v-160H180v160Zm440 0h160v-160H620v160ZM180-180h160v-160H180v160Zm440 0h160v-160H620v160Z\"/>\n",
              "  </svg>\n",
              "    </button>\n",
              "\n",
              "  <style>\n",
              "    .colab-df-container {\n",
              "      display:flex;\n",
              "      gap: 12px;\n",
              "    }\n",
              "\n",
              "    .colab-df-convert {\n",
              "      background-color: #E8F0FE;\n",
              "      border: none;\n",
              "      border-radius: 50%;\n",
              "      cursor: pointer;\n",
              "      display: none;\n",
              "      fill: #1967D2;\n",
              "      height: 32px;\n",
              "      padding: 0 0 0 0;\n",
              "      width: 32px;\n",
              "    }\n",
              "\n",
              "    .colab-df-convert:hover {\n",
              "      background-color: #E2EBFA;\n",
              "      box-shadow: 0px 1px 2px rgba(60, 64, 67, 0.3), 0px 1px 3px 1px rgba(60, 64, 67, 0.15);\n",
              "      fill: #174EA6;\n",
              "    }\n",
              "\n",
              "    .colab-df-buttons div {\n",
              "      margin-bottom: 4px;\n",
              "    }\n",
              "\n",
              "    [theme=dark] .colab-df-convert {\n",
              "      background-color: #3B4455;\n",
              "      fill: #D2E3FC;\n",
              "    }\n",
              "\n",
              "    [theme=dark] .colab-df-convert:hover {\n",
              "      background-color: #434B5C;\n",
              "      box-shadow: 0px 1px 3px 1px rgba(0, 0, 0, 0.15);\n",
              "      filter: drop-shadow(0px 1px 2px rgba(0, 0, 0, 0.3));\n",
              "      fill: #FFFFFF;\n",
              "    }\n",
              "  </style>\n",
              "\n",
              "    <script>\n",
              "      const buttonEl =\n",
              "        document.querySelector('#df-e1492560-09b9-4868-aaed-34e05761b404 button.colab-df-convert');\n",
              "      buttonEl.style.display =\n",
              "        google.colab.kernel.accessAllowed ? 'block' : 'none';\n",
              "\n",
              "      async function convertToInteractive(key) {\n",
              "        const element = document.querySelector('#df-e1492560-09b9-4868-aaed-34e05761b404');\n",
              "        const dataTable =\n",
              "          await google.colab.kernel.invokeFunction('convertToInteractive',\n",
              "                                                    [key], {});\n",
              "        if (!dataTable) return;\n",
              "\n",
              "        const docLinkHtml = 'Like what you see? Visit the ' +\n",
              "          '<a target=\"_blank\" href=https://colab.research.google.com/notebooks/data_table.ipynb>data table notebook</a>'\n",
              "          + ' to learn more about interactive tables.';\n",
              "        element.innerHTML = '';\n",
              "        dataTable['output_type'] = 'display_data';\n",
              "        await google.colab.output.renderOutput(dataTable, element);\n",
              "        const docLink = document.createElement('div');\n",
              "        docLink.innerHTML = docLinkHtml;\n",
              "        element.appendChild(docLink);\n",
              "      }\n",
              "    </script>\n",
              "  </div>\n",
              "\n",
              "\n",
              "<div id=\"df-0d16aba4-bfbf-45df-888e-f5824875e1e1\">\n",
              "  <button class=\"colab-df-quickchart\" onclick=\"quickchart('df-0d16aba4-bfbf-45df-888e-f5824875e1e1')\"\n",
              "            title=\"Suggest charts.\"\n",
              "            style=\"display:none;\">\n",
              "\n",
              "<svg xmlns=\"http://www.w3.org/2000/svg\" height=\"24px\"viewBox=\"0 0 24 24\"\n",
              "     width=\"24px\">\n",
              "    <g>\n",
              "        <path d=\"M19 3H5c-1.1 0-2 .9-2 2v14c0 1.1.9 2 2 2h14c1.1 0 2-.9 2-2V5c0-1.1-.9-2-2-2zM9 17H7v-7h2v7zm4 0h-2V7h2v10zm4 0h-2v-4h2v4z\"/>\n",
              "    </g>\n",
              "</svg>\n",
              "  </button>\n",
              "\n",
              "<style>\n",
              "  .colab-df-quickchart {\n",
              "      --bg-color: #E8F0FE;\n",
              "      --fill-color: #1967D2;\n",
              "      --hover-bg-color: #E2EBFA;\n",
              "      --hover-fill-color: #174EA6;\n",
              "      --disabled-fill-color: #AAA;\n",
              "      --disabled-bg-color: #DDD;\n",
              "  }\n",
              "\n",
              "  [theme=dark] .colab-df-quickchart {\n",
              "      --bg-color: #3B4455;\n",
              "      --fill-color: #D2E3FC;\n",
              "      --hover-bg-color: #434B5C;\n",
              "      --hover-fill-color: #FFFFFF;\n",
              "      --disabled-bg-color: #3B4455;\n",
              "      --disabled-fill-color: #666;\n",
              "  }\n",
              "\n",
              "  .colab-df-quickchart {\n",
              "    background-color: var(--bg-color);\n",
              "    border: none;\n",
              "    border-radius: 50%;\n",
              "    cursor: pointer;\n",
              "    display: none;\n",
              "    fill: var(--fill-color);\n",
              "    height: 32px;\n",
              "    padding: 0;\n",
              "    width: 32px;\n",
              "  }\n",
              "\n",
              "  .colab-df-quickchart:hover {\n",
              "    background-color: var(--hover-bg-color);\n",
              "    box-shadow: 0 1px 2px rgba(60, 64, 67, 0.3), 0 1px 3px 1px rgba(60, 64, 67, 0.15);\n",
              "    fill: var(--button-hover-fill-color);\n",
              "  }\n",
              "\n",
              "  .colab-df-quickchart-complete:disabled,\n",
              "  .colab-df-quickchart-complete:disabled:hover {\n",
              "    background-color: var(--disabled-bg-color);\n",
              "    fill: var(--disabled-fill-color);\n",
              "    box-shadow: none;\n",
              "  }\n",
              "\n",
              "  .colab-df-spinner {\n",
              "    border: 2px solid var(--fill-color);\n",
              "    border-color: transparent;\n",
              "    border-bottom-color: var(--fill-color);\n",
              "    animation:\n",
              "      spin 1s steps(1) infinite;\n",
              "  }\n",
              "\n",
              "  @keyframes spin {\n",
              "    0% {\n",
              "      border-color: transparent;\n",
              "      border-bottom-color: var(--fill-color);\n",
              "      border-left-color: var(--fill-color);\n",
              "    }\n",
              "    20% {\n",
              "      border-color: transparent;\n",
              "      border-left-color: var(--fill-color);\n",
              "      border-top-color: var(--fill-color);\n",
              "    }\n",
              "    30% {\n",
              "      border-color: transparent;\n",
              "      border-left-color: var(--fill-color);\n",
              "      border-top-color: var(--fill-color);\n",
              "      border-right-color: var(--fill-color);\n",
              "    }\n",
              "    40% {\n",
              "      border-color: transparent;\n",
              "      border-right-color: var(--fill-color);\n",
              "      border-top-color: var(--fill-color);\n",
              "    }\n",
              "    60% {\n",
              "      border-color: transparent;\n",
              "      border-right-color: var(--fill-color);\n",
              "    }\n",
              "    80% {\n",
              "      border-color: transparent;\n",
              "      border-right-color: var(--fill-color);\n",
              "      border-bottom-color: var(--fill-color);\n",
              "    }\n",
              "    90% {\n",
              "      border-color: transparent;\n",
              "      border-bottom-color: var(--fill-color);\n",
              "    }\n",
              "  }\n",
              "</style>\n",
              "\n",
              "  <script>\n",
              "    async function quickchart(key) {\n",
              "      const quickchartButtonEl =\n",
              "        document.querySelector('#' + key + ' button');\n",
              "      quickchartButtonEl.disabled = true;  // To prevent multiple clicks.\n",
              "      quickchartButtonEl.classList.add('colab-df-spinner');\n",
              "      try {\n",
              "        const charts = await google.colab.kernel.invokeFunction(\n",
              "            'suggestCharts', [key], {});\n",
              "      } catch (error) {\n",
              "        console.error('Error during call to suggestCharts:', error);\n",
              "      }\n",
              "      quickchartButtonEl.classList.remove('colab-df-spinner');\n",
              "      quickchartButtonEl.classList.add('colab-df-quickchart-complete');\n",
              "    }\n",
              "    (() => {\n",
              "      let quickchartButtonEl =\n",
              "        document.querySelector('#df-0d16aba4-bfbf-45df-888e-f5824875e1e1 button');\n",
              "      quickchartButtonEl.style.display =\n",
              "        google.colab.kernel.accessAllowed ? 'block' : 'none';\n",
              "    })();\n",
              "  </script>\n",
              "</div>\n",
              "    </div>\n",
              "  </div>\n"
            ],
            "application/vnd.google.colaboratory.module+javascript": "\n      import \"https://ssl.gstatic.com/colaboratory/data_table/881c4a0d49046431/data_table.js\";\n\n      const table = window.createDataTable({\n        data: [[\"module\",\n\"keras.optimizers\",\nNaN,\nNaN,\n{\n            'v': NaN,\n            'f': \"NaN\",\n        },\n{\n            'v': null,\n            'f': \"null\",\n        },\n{\n            'v': null,\n            'f': \"null\",\n        },\n{\n            'v': null,\n            'f': \"null\",\n        },\n{\n            'v': null,\n            'f': \"null\",\n        }],\n [\"class_name\",\n\"Adam\",\nNaN,\nNaN,\n{\n            'v': NaN,\n            'f': \"NaN\",\n        },\n{\n            'v': null,\n            'f': \"null\",\n        },\n{\n            'v': null,\n            'f': \"null\",\n        },\n{\n            'v': null,\n            'f': \"null\",\n        },\n{\n            'v': null,\n            'f': \"null\",\n        }],\n [\"config\",\n\"{'name': 'Adam', 'weight_decay': None, 'clipnorm': None, 'global_clipnorm': None, 'clipvalue': None, 'use_ema': False, 'ema_momentum': 0.99, 'ema_overwrite_frequency': None, 'jit_compile': True, 'is_legacy_optimizer': False, 'learning_rate': 9.999999747378752e-06, 'beta_1': 0.9, 'beta_2': 0.999, 'epsilon': 1e-07, 'amsgrad': False}\",\nNaN,\nNaN,\n{\n            'v': NaN,\n            'f': \"NaN\",\n        },\n{\n            'v': null,\n            'f': \"null\",\n        },\n{\n            'v': null,\n            'f': \"null\",\n        },\n{\n            'v': null,\n            'f': \"null\",\n        },\n{\n            'v': null,\n            'f': \"null\",\n        }],\n [\"registered_name\",\nnull,\nNaN,\nNaN,\n{\n            'v': NaN,\n            'f': \"NaN\",\n        },\n{\n            'v': null,\n            'f': \"null\",\n        },\n{\n            'v': null,\n            'f': \"null\",\n        },\n{\n            'v': null,\n            'f': \"null\",\n        },\n{\n            'v': null,\n            'f': \"null\",\n        }],\n [\"outSev\",\nNaN,\n\"mean_squared_error\",\n[\"{'module': 'keras.metrics', 'class_name': 'RootMeanSquaredError', 'config': {'name': 'outSev_outSev_root_mean_squared_error', 'dtype': 'float32'}, 'registered_name': None}\"],\n{\n            'v': 0.05,\n            'f': \"0.05\",\n        },\n{\n            'v': null,\n            'f': \"null\",\n        },\n{\n            'v': null,\n            'f': \"null\",\n        },\n{\n            'v': null,\n            'f': \"null\",\n        },\n{\n            'v': null,\n            'f': \"null\",\n        }],\n [\"outLabel\",\nNaN,\n\"categorical_crossentropy\",\n\"accuracy\",\n{\n            'v': 0.95,\n            'f': \"0.95\",\n        },\n{\n            'v': null,\n            'f': \"null\",\n        },\n{\n            'v': null,\n            'f': \"null\",\n        },\n{\n            'v': null,\n            'f': \"null\",\n        },\n{\n            'v': null,\n            'f': \"null\",\n        }]],\n        columns: [[\"string\", \"index\"], [\"string\", \"optimizer\"], [\"string\", \"loss\"], [\"string\", \"metrics\"], [\"number\", \"loss_weights\"], [\"number\", \"weighted_metrics\"], [\"number\", \"run_eagerly\"], [\"number\", \"steps_per_execution\"], [\"number\", \"jit_compile\"]],\n        columnOptions: [{\"width\": \"1px\", \"className\": \"index_column\"}],\n        rowsPerPage: 25,\n        helpUrl: \"https://colab.research.google.com/notebooks/data_table.ipynb\",\n        suppressOutputScrolling: true,\n        minimumWidth: undefined,\n      });\n\n      function appendQuickchartButton(parentElement) {\n        let quickchartButtonContainerElement = document.createElement('div');\n        quickchartButtonContainerElement.innerHTML = `\n<div id=\"df-cd01a5de-f38f-4ee2-a6d1-2517ec4c60f6\">\n  <button class=\"colab-df-quickchart\" onclick=\"quickchart('df-cd01a5de-f38f-4ee2-a6d1-2517ec4c60f6')\"\n            title=\"Suggest charts.\"\n            style=\"display:none;\">\n    \n<svg xmlns=\"http://www.w3.org/2000/svg\" height=\"24px\"viewBox=\"0 0 24 24\"\n     width=\"24px\">\n    <g>\n        <path d=\"M19 3H5c-1.1 0-2 .9-2 2v14c0 1.1.9 2 2 2h14c1.1 0 2-.9 2-2V5c0-1.1-.9-2-2-2zM9 17H7v-7h2v7zm4 0h-2V7h2v10zm4 0h-2v-4h2v4z\"/>\n    </g>\n</svg>\n  </button>\n  \n<style>\n  .colab-df-quickchart {\n      --bg-color: #E8F0FE;\n      --fill-color: #1967D2;\n      --hover-bg-color: #E2EBFA;\n      --hover-fill-color: #174EA6;\n      --disabled-fill-color: #AAA;\n      --disabled-bg-color: #DDD;\n  }\n\n  [theme=dark] .colab-df-quickchart {\n      --bg-color: #3B4455;\n      --fill-color: #D2E3FC;\n      --hover-bg-color: #434B5C;\n      --hover-fill-color: #FFFFFF;\n      --disabled-bg-color: #3B4455;\n      --disabled-fill-color: #666;\n  }\n\n  .colab-df-quickchart {\n    background-color: var(--bg-color);\n    border: none;\n    border-radius: 50%;\n    cursor: pointer;\n    display: none;\n    fill: var(--fill-color);\n    height: 32px;\n    padding: 0;\n    width: 32px;\n  }\n\n  .colab-df-quickchart:hover {\n    background-color: var(--hover-bg-color);\n    box-shadow: 0 1px 2px rgba(60, 64, 67, 0.3), 0 1px 3px 1px rgba(60, 64, 67, 0.15);\n    fill: var(--button-hover-fill-color);\n  }\n\n  .colab-df-quickchart-complete:disabled,\n  .colab-df-quickchart-complete:disabled:hover {\n    background-color: var(--disabled-bg-color);\n    fill: var(--disabled-fill-color);\n    box-shadow: none;\n  }\n\n  .colab-df-spinner {\n    border: 2px solid var(--fill-color);\n    border-color: transparent;\n    border-bottom-color: var(--fill-color);\n    animation:\n      spin 1s steps(1) infinite;\n  }\n\n  @keyframes spin {\n    0% {\n      border-color: transparent;\n      border-bottom-color: var(--fill-color);\n      border-left-color: var(--fill-color);\n    }\n    20% {\n      border-color: transparent;\n      border-left-color: var(--fill-color);\n      border-top-color: var(--fill-color);\n    }\n    30% {\n      border-color: transparent;\n      border-left-color: var(--fill-color);\n      border-top-color: var(--fill-color);\n      border-right-color: var(--fill-color);\n    }\n    40% {\n      border-color: transparent;\n      border-right-color: var(--fill-color);\n      border-top-color: var(--fill-color);\n    }\n    60% {\n      border-color: transparent;\n      border-right-color: var(--fill-color);\n    }\n    80% {\n      border-color: transparent;\n      border-right-color: var(--fill-color);\n      border-bottom-color: var(--fill-color);\n    }\n    90% {\n      border-color: transparent;\n      border-bottom-color: var(--fill-color);\n    }\n  }\n</style>\n\n  <script>\n    async function quickchart(key) {\n      const quickchartButtonEl =\n        document.querySelector('#' + key + ' button');\n      quickchartButtonEl.disabled = true;  // To prevent multiple clicks.\n      quickchartButtonEl.classList.add('colab-df-spinner');\n      try {\n        const charts = await google.colab.kernel.invokeFunction(\n            'suggestCharts', [key], {});\n      } catch (error) {\n        console.error('Error during call to suggestCharts:', error);\n      }\n      quickchartButtonEl.classList.remove('colab-df-spinner');\n      quickchartButtonEl.classList.add('colab-df-quickchart-complete');\n    }\n    (() => {\n      let quickchartButtonEl =\n        document.querySelector('#df-cd01a5de-f38f-4ee2-a6d1-2517ec4c60f6 button');\n      quickchartButtonEl.style.display =\n        google.colab.kernel.accessAllowed ? 'block' : 'none';\n    })();\n  </script>\n</div>`;\n        parentElement.appendChild(quickchartButtonContainerElement);\n      }\n\n      appendQuickchartButton(table);\n    "
          },
          "metadata": {},
          "execution_count": 73
        }
      ],
      "source": [
        "opt2=tf.optimizers.Adam(0.00001)\n",
        "model.compile(optimizer=opt2, loss=losses,loss_weights=LossWeights,metrics=metrics)\n",
        "pd.DataFrame(model.get_compile_config())\n",
        "# pd.DataFrame(sample_weight)"
      ]
    },
    {
      "cell_type": "code",
      "execution_count": null,
      "metadata": {
        "colab": {
          "base_uri": "https://localhost:8080/"
        },
        "id": "fEUnOdbHmeyl",
        "outputId": "9b9487e3-a9c6-402e-ccfa-066ffd92040f"
      },
      "outputs": [
        {
          "output_type": "stream",
          "name": "stdout",
          "text": [
            "Epoch 1/200\n",
            "2/2 [==============================] - 2s 281ms/step - loss: 0.2009 - outSev_loss: 2.0761 - outLabel_loss: 0.1022 - outSev_outSev_outSev_root_mean_squared_error: 1.6274 - outLabel_accuracy: 0.9620 - val_loss: 0.3136 - val_outSev_loss: 2.9073 - val_outLabel_loss: 0.1771 - val_outSev_outSev_outSev_root_mean_squared_error: 1.7051 - val_outLabel_accuracy: 0.9260\n",
            "Epoch 2/200\n",
            "2/2 [==============================] - 0s 62ms/step - loss: 0.2031 - outSev_loss: 2.1669 - outLabel_loss: 0.0997 - outSev_outSev_outSev_root_mean_squared_error: 1.6415 - outLabel_accuracy: 0.9614 - val_loss: 0.3136 - val_outSev_loss: 2.9074 - val_outLabel_loss: 0.1771 - val_outSev_outSev_outSev_root_mean_squared_error: 1.7051 - val_outLabel_accuracy: 0.9260\n",
            "Epoch 3/200\n",
            "2/2 [==============================] - 0s 42ms/step - loss: 0.2252 - outSev_loss: 2.1039 - outLabel_loss: 0.1263 - outSev_outSev_outSev_root_mean_squared_error: 1.6233 - outLabel_accuracy: 0.9550 - val_loss: 0.3135 - val_outSev_loss: 2.9074 - val_outLabel_loss: 0.1770 - val_outSev_outSev_outSev_root_mean_squared_error: 1.7051 - val_outLabel_accuracy: 0.9260\n",
            "Epoch 4/200\n",
            "2/2 [==============================] - 0s 41ms/step - loss: 0.1870 - outSev_loss: 2.0511 - outLabel_loss: 0.0888 - outSev_outSev_outSev_root_mean_squared_error: 1.5948 - outLabel_accuracy: 0.9600 - val_loss: 0.3135 - val_outSev_loss: 2.9072 - val_outLabel_loss: 0.1770 - val_outSev_outSev_outSev_root_mean_squared_error: 1.7051 - val_outLabel_accuracy: 0.9260\n",
            "Epoch 5/200\n",
            "2/2 [==============================] - 0s 44ms/step - loss: 0.2104 - outSev_loss: 2.1679 - outLabel_loss: 0.1074 - outSev_outSev_outSev_root_mean_squared_error: 1.6459 - outLabel_accuracy: 0.9585 - val_loss: 0.3135 - val_outSev_loss: 2.9069 - val_outLabel_loss: 0.1771 - val_outSev_outSev_outSev_root_mean_squared_error: 1.7050 - val_outLabel_accuracy: 0.9260\n",
            "Epoch 6/200\n",
            "2/2 [==============================] - 0s 46ms/step - loss: 0.2054 - outSev_loss: 2.1291 - outLabel_loss: 0.1042 - outSev_outSev_outSev_root_mean_squared_error: 1.6405 - outLabel_accuracy: 0.9568 - val_loss: 0.3135 - val_outSev_loss: 2.9068 - val_outLabel_loss: 0.1770 - val_outSev_outSev_outSev_root_mean_squared_error: 1.7049 - val_outLabel_accuracy: 0.9260\n",
            "Epoch 7/200\n",
            "2/2 [==============================] - 0s 43ms/step - loss: 0.2082 - outSev_loss: 2.0904 - outLabel_loss: 0.1092 - outSev_outSev_outSev_root_mean_squared_error: 1.6039 - outLabel_accuracy: 0.9533 - val_loss: 0.3135 - val_outSev_loss: 2.9072 - val_outLabel_loss: 0.1770 - val_outSev_outSev_outSev_root_mean_squared_error: 1.7050 - val_outLabel_accuracy: 0.9260\n",
            "Epoch 8/200\n",
            "2/2 [==============================] - 0s 43ms/step - loss: 0.2038 - outSev_loss: 2.1072 - outLabel_loss: 0.1036 - outSev_outSev_outSev_root_mean_squared_error: 1.6137 - outLabel_accuracy: 0.9556 - val_loss: 0.3135 - val_outSev_loss: 2.9075 - val_outLabel_loss: 0.1770 - val_outSev_outSev_outSev_root_mean_squared_error: 1.7051 - val_outLabel_accuracy: 0.9260\n",
            "Epoch 9/200\n",
            "2/2 [==============================] - 0s 55ms/step - loss: 0.2256 - outSev_loss: 2.2604 - outLabel_loss: 0.1185 - outSev_outSev_outSev_root_mean_squared_error: 1.6706 - outLabel_accuracy: 0.9536 - val_loss: 0.3135 - val_outSev_loss: 2.9074 - val_outLabel_loss: 0.1770 - val_outSev_outSev_outSev_root_mean_squared_error: 1.7051 - val_outLabel_accuracy: 0.9260\n",
            "Epoch 10/200\n",
            "2/2 [==============================] - 0s 55ms/step - loss: 0.1952 - outSev_loss: 2.1164 - outLabel_loss: 0.0941 - outSev_outSev_outSev_root_mean_squared_error: 1.6195 - outLabel_accuracy: 0.9626 - val_loss: 0.3134 - val_outSev_loss: 2.9071 - val_outLabel_loss: 0.1769 - val_outSev_outSev_outSev_root_mean_squared_error: 1.7050 - val_outLabel_accuracy: 0.9260\n",
            "Epoch 11/200\n",
            "2/2 [==============================] - 0s 56ms/step - loss: 0.2099 - outSev_loss: 2.0614 - outLabel_loss: 0.1124 - outSev_outSev_outSev_root_mean_squared_error: 1.5969 - outLabel_accuracy: 0.9562 - val_loss: 0.3135 - val_outSev_loss: 2.9074 - val_outLabel_loss: 0.1770 - val_outSev_outSev_outSev_root_mean_squared_error: 1.7051 - val_outLabel_accuracy: 0.9260\n",
            "Epoch 12/200\n",
            "2/2 [==============================] - 0s 45ms/step - loss: 0.2087 - outSev_loss: 2.1825 - outLabel_loss: 0.1048 - outSev_outSev_outSev_root_mean_squared_error: 1.6484 - outLabel_accuracy: 0.9579 - val_loss: 0.3135 - val_outSev_loss: 2.9079 - val_outLabel_loss: 0.1769 - val_outSev_outSev_outSev_root_mean_squared_error: 1.7053 - val_outLabel_accuracy: 0.9260\n",
            "Epoch 13/200\n",
            "2/2 [==============================] - 0s 56ms/step - loss: 0.2252 - outSev_loss: 2.2205 - outLabel_loss: 0.1202 - outSev_outSev_outSev_root_mean_squared_error: 1.6575 - outLabel_accuracy: 0.9556 - val_loss: 0.3135 - val_outSev_loss: 2.9074 - val_outLabel_loss: 0.1770 - val_outSev_outSev_outSev_root_mean_squared_error: 1.7051 - val_outLabel_accuracy: 0.9260\n",
            "Epoch 14/200\n",
            "2/2 [==============================] - 0s 41ms/step - loss: 0.2104 - outSev_loss: 2.0808 - outLabel_loss: 0.1120 - outSev_outSev_outSev_root_mean_squared_error: 1.6067 - outLabel_accuracy: 0.9518 - val_loss: 0.3135 - val_outSev_loss: 2.9080 - val_outLabel_loss: 0.1770 - val_outSev_outSev_outSev_root_mean_squared_error: 1.7053 - val_outLabel_accuracy: 0.9260\n",
            "Epoch 15/200\n",
            "2/2 [==============================] - 0s 57ms/step - loss: 0.1962 - outSev_loss: 2.1319 - outLabel_loss: 0.0943 - outSev_outSev_outSev_root_mean_squared_error: 1.6223 - outLabel_accuracy: 0.9588 - val_loss: 0.3135 - val_outSev_loss: 2.9078 - val_outLabel_loss: 0.1770 - val_outSev_outSev_outSev_root_mean_squared_error: 1.7052 - val_outLabel_accuracy: 0.9260\n",
            "Epoch 16/200\n",
            "2/2 [==============================] - 0s 44ms/step - loss: 0.1914 - outSev_loss: 2.0246 - outLabel_loss: 0.0949 - outSev_outSev_outSev_root_mean_squared_error: 1.5859 - outLabel_accuracy: 0.9617 - val_loss: 0.3135 - val_outSev_loss: 2.9082 - val_outLabel_loss: 0.1769 - val_outSev_outSev_outSev_root_mean_squared_error: 1.7053 - val_outLabel_accuracy: 0.9260\n",
            "Epoch 17/200\n",
            "2/2 [==============================] - 0s 54ms/step - loss: 0.1962 - outSev_loss: 2.0748 - outLabel_loss: 0.0973 - outSev_outSev_outSev_root_mean_squared_error: 1.6006 - outLabel_accuracy: 0.9649 - val_loss: 0.3135 - val_outSev_loss: 2.9081 - val_outLabel_loss: 0.1769 - val_outSev_outSev_outSev_root_mean_squared_error: 1.7053 - val_outLabel_accuracy: 0.9260\n",
            "Epoch 18/200\n",
            "2/2 [==============================] - 0s 48ms/step - loss: 0.2069 - outSev_loss: 2.1400 - outLabel_loss: 0.1052 - outSev_outSev_outSev_root_mean_squared_error: 1.6331 - outLabel_accuracy: 0.9617 - val_loss: 0.3135 - val_outSev_loss: 2.9079 - val_outLabel_loss: 0.1769 - val_outSev_outSev_outSev_root_mean_squared_error: 1.7053 - val_outLabel_accuracy: 0.9260\n",
            "Epoch 19/200\n",
            "2/2 [==============================] - 0s 41ms/step - loss: 0.2101 - outSev_loss: 2.1697 - outLabel_loss: 0.1070 - outSev_outSev_outSev_root_mean_squared_error: 1.6456 - outLabel_accuracy: 0.9594 - val_loss: 0.3135 - val_outSev_loss: 2.9075 - val_outLabel_loss: 0.1770 - val_outSev_outSev_outSev_root_mean_squared_error: 1.7052 - val_outLabel_accuracy: 0.9260\n",
            "Epoch 20/200\n",
            "2/2 [==============================] - 0s 40ms/step - loss: 0.2094 - outSev_loss: 2.1888 - outLabel_loss: 0.1052 - outSev_outSev_outSev_root_mean_squared_error: 1.6574 - outLabel_accuracy: 0.9565 - val_loss: 0.3135 - val_outSev_loss: 2.9071 - val_outLabel_loss: 0.1770 - val_outSev_outSev_outSev_root_mean_squared_error: 1.7050 - val_outLabel_accuracy: 0.9260\n",
            "Epoch 21/200\n",
            "2/2 [==============================] - 0s 56ms/step - loss: 0.1926 - outSev_loss: 2.0347 - outLabel_loss: 0.0957 - outSev_outSev_outSev_root_mean_squared_error: 1.5911 - outLabel_accuracy: 0.9600 - val_loss: 0.3135 - val_outSev_loss: 2.9070 - val_outLabel_loss: 0.1770 - val_outSev_outSev_outSev_root_mean_squared_error: 1.7050 - val_outLabel_accuracy: 0.9260\n",
            "Epoch 22/200\n",
            "2/2 [==============================] - 0s 45ms/step - loss: 0.1923 - outSev_loss: 2.0710 - outLabel_loss: 0.0934 - outSev_outSev_outSev_root_mean_squared_error: 1.6018 - outLabel_accuracy: 0.9637 - val_loss: 0.3136 - val_outSev_loss: 2.9073 - val_outLabel_loss: 0.1771 - val_outSev_outSev_outSev_root_mean_squared_error: 1.7051 - val_outLabel_accuracy: 0.9260\n",
            "Epoch 23/200\n",
            "2/2 [==============================] - 0s 44ms/step - loss: 0.2058 - outSev_loss: 2.0604 - outLabel_loss: 0.1082 - outSev_outSev_outSev_root_mean_squared_error: 1.6038 - outLabel_accuracy: 0.9544 - val_loss: 0.3135 - val_outSev_loss: 2.9072 - val_outLabel_loss: 0.1770 - val_outSev_outSev_outSev_root_mean_squared_error: 1.7050 - val_outLabel_accuracy: 0.9260\n",
            "Epoch 24/200\n",
            "2/2 [==============================] - 0s 46ms/step - loss: 0.2172 - outSev_loss: 2.2774 - outLabel_loss: 0.1088 - outSev_outSev_outSev_root_mean_squared_error: 1.6716 - outLabel_accuracy: 0.9579 - val_loss: 0.3135 - val_outSev_loss: 2.9074 - val_outLabel_loss: 0.1770 - val_outSev_outSev_outSev_root_mean_squared_error: 1.7051 - val_outLabel_accuracy: 0.9260\n",
            "Epoch 25/200\n",
            "2/2 [==============================] - 0s 58ms/step - loss: 0.1958 - outSev_loss: 2.0503 - outLabel_loss: 0.0981 - outSev_outSev_outSev_root_mean_squared_error: 1.5943 - outLabel_accuracy: 0.9652 - val_loss: 0.3136 - val_outSev_loss: 2.9078 - val_outLabel_loss: 0.1770 - val_outSev_outSev_outSev_root_mean_squared_error: 1.7052 - val_outLabel_accuracy: 0.9260\n",
            "Epoch 26/200\n",
            "2/2 [==============================] - 0s 40ms/step - loss: 0.2088 - outSev_loss: 2.1525 - outLabel_loss: 0.1065 - outSev_outSev_outSev_root_mean_squared_error: 1.6313 - outLabel_accuracy: 0.9573 - val_loss: 0.3136 - val_outSev_loss: 2.9080 - val_outLabel_loss: 0.1770 - val_outSev_outSev_outSev_root_mean_squared_error: 1.7053 - val_outLabel_accuracy: 0.9260\n",
            "Epoch 27/200\n",
            "2/2 [==============================] - 0s 54ms/step - loss: 0.2115 - outSev_loss: 2.2412 - outLabel_loss: 0.1047 - outSev_outSev_outSev_root_mean_squared_error: 1.6638 - outLabel_accuracy: 0.9573 - val_loss: 0.3136 - val_outSev_loss: 2.9082 - val_outLabel_loss: 0.1771 - val_outSev_outSev_outSev_root_mean_squared_error: 1.7054 - val_outLabel_accuracy: 0.9260\n",
            "Epoch 28/200\n",
            "2/2 [==============================] - 0s 39ms/step - loss: 0.2116 - outSev_loss: 2.1107 - outLabel_loss: 0.1116 - outSev_outSev_outSev_root_mean_squared_error: 1.6052 - outLabel_accuracy: 0.9571 - val_loss: 0.3136 - val_outSev_loss: 2.9086 - val_outLabel_loss: 0.1771 - val_outSev_outSev_outSev_root_mean_squared_error: 1.7055 - val_outLabel_accuracy: 0.9260\n",
            "Epoch 29/200\n",
            "2/2 [==============================] - 0s 40ms/step - loss: 0.2060 - outSev_loss: 2.0907 - outLabel_loss: 0.1068 - outSev_outSev_outSev_root_mean_squared_error: 1.6146 - outLabel_accuracy: 0.9562 - val_loss: 0.3136 - val_outSev_loss: 2.9085 - val_outLabel_loss: 0.1771 - val_outSev_outSev_outSev_root_mean_squared_error: 1.7054 - val_outLabel_accuracy: 0.9260\n",
            "Epoch 30/200\n",
            "2/2 [==============================] - 0s 41ms/step - loss: 0.2040 - outSev_loss: 2.1069 - outLabel_loss: 0.1039 - outSev_outSev_outSev_root_mean_squared_error: 1.6208 - outLabel_accuracy: 0.9611 - val_loss: 0.3136 - val_outSev_loss: 2.9083 - val_outLabel_loss: 0.1771 - val_outSev_outSev_outSev_root_mean_squared_error: 1.7054 - val_outLabel_accuracy: 0.9260\n",
            "Epoch 31/200\n",
            "2/2 [==============================] - 0s 58ms/step - loss: 0.2232 - outSev_loss: 2.1877 - outLabel_loss: 0.1199 - outSev_outSev_outSev_root_mean_squared_error: 1.6361 - outLabel_accuracy: 0.9536 - val_loss: 0.3136 - val_outSev_loss: 2.9081 - val_outLabel_loss: 0.1770 - val_outSev_outSev_outSev_root_mean_squared_error: 1.7053 - val_outLabel_accuracy: 0.9260\n",
            "Epoch 32/200\n",
            "2/2 [==============================] - 0s 56ms/step - loss: 0.2062 - outSev_loss: 2.0911 - outLabel_loss: 0.1070 - outSev_outSev_outSev_root_mean_squared_error: 1.6075 - outLabel_accuracy: 0.9568 - val_loss: 0.3136 - val_outSev_loss: 2.9079 - val_outLabel_loss: 0.1770 - val_outSev_outSev_outSev_root_mean_squared_error: 1.7053 - val_outLabel_accuracy: 0.9260\n",
            "Epoch 33/200\n",
            "2/2 [==============================] - 0s 38ms/step - loss: 0.2201 - outSev_loss: 2.1564 - outLabel_loss: 0.1182 - outSev_outSev_outSev_root_mean_squared_error: 1.6399 - outLabel_accuracy: 0.9530 - val_loss: 0.3135 - val_outSev_loss: 2.9077 - val_outLabel_loss: 0.1770 - val_outSev_outSev_outSev_root_mean_squared_error: 1.7052 - val_outLabel_accuracy: 0.9260\n",
            "Epoch 34/200\n",
            "2/2 [==============================] - 0s 44ms/step - loss: 0.2012 - outSev_loss: 2.0101 - outLabel_loss: 0.1060 - outSev_outSev_outSev_root_mean_squared_error: 1.5877 - outLabel_accuracy: 0.9608 - val_loss: 0.3134 - val_outSev_loss: 2.9076 - val_outLabel_loss: 0.1769 - val_outSev_outSev_outSev_root_mean_squared_error: 1.7052 - val_outLabel_accuracy: 0.9260\n",
            "Epoch 35/200\n",
            "2/2 [==============================] - 0s 38ms/step - loss: 0.2012 - outSev_loss: 2.1486 - outLabel_loss: 0.0987 - outSev_outSev_outSev_root_mean_squared_error: 1.6368 - outLabel_accuracy: 0.9605 - val_loss: 0.3134 - val_outSev_loss: 2.9071 - val_outLabel_loss: 0.1769 - val_outSev_outSev_outSev_root_mean_squared_error: 1.7050 - val_outLabel_accuracy: 0.9260\n",
            "Epoch 36/200\n",
            "2/2 [==============================] - 0s 37ms/step - loss: 0.1864 - outSev_loss: 2.1054 - outLabel_loss: 0.0854 - outSev_outSev_outSev_root_mean_squared_error: 1.6094 - outLabel_accuracy: 0.9626 - val_loss: 0.3134 - val_outSev_loss: 2.9072 - val_outLabel_loss: 0.1768 - val_outSev_outSev_outSev_root_mean_squared_error: 1.7051 - val_outLabel_accuracy: 0.9260\n",
            "Epoch 37/200\n",
            "2/2 [==============================] - 0s 38ms/step - loss: 0.2151 - outSev_loss: 2.2207 - outLabel_loss: 0.1096 - outSev_outSev_outSev_root_mean_squared_error: 1.6552 - outLabel_accuracy: 0.9530 - val_loss: 0.3134 - val_outSev_loss: 2.9068 - val_outLabel_loss: 0.1769 - val_outSev_outSev_outSev_root_mean_squared_error: 1.7049 - val_outLabel_accuracy: 0.9260\n",
            "Epoch 38/200\n",
            "2/2 [==============================] - 0s 54ms/step - loss: 0.2160 - outSev_loss: 2.1174 - outLabel_loss: 0.1159 - outSev_outSev_outSev_root_mean_squared_error: 1.6238 - outLabel_accuracy: 0.9544 - val_loss: 0.3133 - val_outSev_loss: 2.9070 - val_outLabel_loss: 0.1768 - val_outSev_outSev_outSev_root_mean_squared_error: 1.7050 - val_outLabel_accuracy: 0.9260\n",
            "Epoch 39/200\n",
            "2/2 [==============================] - 0s 43ms/step - loss: 0.2140 - outSev_loss: 2.1598 - outLabel_loss: 0.1116 - outSev_outSev_outSev_root_mean_squared_error: 1.6355 - outLabel_accuracy: 0.9573 - val_loss: 0.3133 - val_outSev_loss: 2.9073 - val_outLabel_loss: 0.1768 - val_outSev_outSev_outSev_root_mean_squared_error: 1.7051 - val_outLabel_accuracy: 0.9260\n",
            "Epoch 40/200\n",
            "2/2 [==============================] - 0s 39ms/step - loss: 0.2041 - outSev_loss: 2.0308 - outLabel_loss: 0.1080 - outSev_outSev_outSev_root_mean_squared_error: 1.5802 - outLabel_accuracy: 0.9585 - val_loss: 0.3133 - val_outSev_loss: 2.9076 - val_outLabel_loss: 0.1768 - val_outSev_outSev_outSev_root_mean_squared_error: 1.7052 - val_outLabel_accuracy: 0.9260\n",
            "Epoch 41/200\n",
            "2/2 [==============================] - 0s 40ms/step - loss: 0.1993 - outSev_loss: 2.1392 - outLabel_loss: 0.0972 - outSev_outSev_outSev_root_mean_squared_error: 1.6325 - outLabel_accuracy: 0.9582 - val_loss: 0.3133 - val_outSev_loss: 2.9078 - val_outLabel_loss: 0.1767 - val_outSev_outSev_outSev_root_mean_squared_error: 1.7052 - val_outLabel_accuracy: 0.9260\n",
            "Epoch 42/200\n",
            "2/2 [==============================] - 0s 58ms/step - loss: 0.2057 - outSev_loss: 2.1188 - outLabel_loss: 0.1050 - outSev_outSev_outSev_root_mean_squared_error: 1.6095 - outLabel_accuracy: 0.9501 - val_loss: 0.3133 - val_outSev_loss: 2.9078 - val_outLabel_loss: 0.1767 - val_outSev_outSev_outSev_root_mean_squared_error: 1.7052 - val_outLabel_accuracy: 0.9260\n",
            "Epoch 43/200\n",
            "2/2 [==============================] - 0s 40ms/step - loss: 0.2200 - outSev_loss: 2.0146 - outLabel_loss: 0.1255 - outSev_outSev_outSev_root_mean_squared_error: 1.5759 - outLabel_accuracy: 0.9562 - val_loss: 0.3133 - val_outSev_loss: 2.9078 - val_outLabel_loss: 0.1767 - val_outSev_outSev_outSev_root_mean_squared_error: 1.7052 - val_outLabel_accuracy: 0.9260\n",
            "Epoch 44/200\n",
            "2/2 [==============================] - 0s 41ms/step - loss: 0.2096 - outSev_loss: 2.1031 - outLabel_loss: 0.1100 - outSev_outSev_outSev_root_mean_squared_error: 1.6219 - outLabel_accuracy: 0.9562 - val_loss: 0.3133 - val_outSev_loss: 2.9077 - val_outLabel_loss: 0.1768 - val_outSev_outSev_outSev_root_mean_squared_error: 1.7052 - val_outLabel_accuracy: 0.9260\n",
            "Epoch 45/200\n",
            "2/2 [==============================] - 0s 39ms/step - loss: 0.2177 - outSev_loss: 2.1471 - outLabel_loss: 0.1161 - outSev_outSev_outSev_root_mean_squared_error: 1.6195 - outLabel_accuracy: 0.9602 - val_loss: 0.3133 - val_outSev_loss: 2.9082 - val_outLabel_loss: 0.1767 - val_outSev_outSev_outSev_root_mean_squared_error: 1.7053 - val_outLabel_accuracy: 0.9260\n",
            "Epoch 46/200\n",
            "2/2 [==============================] - 0s 40ms/step - loss: 0.2030 - outSev_loss: 2.1414 - outLabel_loss: 0.1010 - outSev_outSev_outSev_root_mean_squared_error: 1.6345 - outLabel_accuracy: 0.9579 - val_loss: 0.3133 - val_outSev_loss: 2.9084 - val_outLabel_loss: 0.1768 - val_outSev_outSev_outSev_root_mean_squared_error: 1.7054 - val_outLabel_accuracy: 0.9260\n",
            "Epoch 47/200\n",
            "2/2 [==============================] - 0s 55ms/step - loss: 0.2049 - outSev_loss: 2.1794 - outLabel_loss: 0.1010 - outSev_outSev_outSev_root_mean_squared_error: 1.6417 - outLabel_accuracy: 0.9620 - val_loss: 0.3133 - val_outSev_loss: 2.9082 - val_outLabel_loss: 0.1767 - val_outSev_outSev_outSev_root_mean_squared_error: 1.7053 - val_outLabel_accuracy: 0.9260\n",
            "Epoch 48/200\n",
            "2/2 [==============================] - 0s 65ms/step - loss: 0.2104 - outSev_loss: 2.0600 - outLabel_loss: 0.1130 - outSev_outSev_outSev_root_mean_squared_error: 1.5984 - outLabel_accuracy: 0.9559 - val_loss: 0.3133 - val_outSev_loss: 2.9079 - val_outLabel_loss: 0.1767 - val_outSev_outSev_outSev_root_mean_squared_error: 1.7053 - val_outLabel_accuracy: 0.9260\n",
            "Epoch 49/200\n",
            "2/2 [==============================] - 0s 43ms/step - loss: 0.2067 - outSev_loss: 2.1813 - outLabel_loss: 0.1028 - outSev_outSev_outSev_root_mean_squared_error: 1.6438 - outLabel_accuracy: 0.9553 - val_loss: 0.3133 - val_outSev_loss: 2.9080 - val_outLabel_loss: 0.1767 - val_outSev_outSev_outSev_root_mean_squared_error: 1.7053 - val_outLabel_accuracy: 0.9260\n",
            "Epoch 50/200\n",
            "2/2 [==============================] - 0s 53ms/step - loss: 0.2042 - outSev_loss: 2.0901 - outLabel_loss: 0.1050 - outSev_outSev_outSev_root_mean_squared_error: 1.6125 - outLabel_accuracy: 0.9562 - val_loss: 0.3133 - val_outSev_loss: 2.9081 - val_outLabel_loss: 0.1767 - val_outSev_outSev_outSev_root_mean_squared_error: 1.7053 - val_outLabel_accuracy: 0.9260\n",
            "Epoch 51/200\n",
            "2/2 [==============================] - 0s 38ms/step - loss: 0.2228 - outSev_loss: 2.2241 - outLabel_loss: 0.1174 - outSev_outSev_outSev_root_mean_squared_error: 1.6592 - outLabel_accuracy: 0.9556 - val_loss: 0.3133 - val_outSev_loss: 2.9077 - val_outLabel_loss: 0.1767 - val_outSev_outSev_outSev_root_mean_squared_error: 1.7052 - val_outLabel_accuracy: 0.9260\n",
            "Epoch 52/200\n",
            "2/2 [==============================] - 0s 39ms/step - loss: 0.1979 - outSev_loss: 2.1513 - outLabel_loss: 0.0951 - outSev_outSev_outSev_root_mean_squared_error: 1.6386 - outLabel_accuracy: 0.9608 - val_loss: 0.3133 - val_outSev_loss: 2.9074 - val_outLabel_loss: 0.1768 - val_outSev_outSev_outSev_root_mean_squared_error: 1.7051 - val_outLabel_accuracy: 0.9260\n",
            "Epoch 53/200\n",
            "2/2 [==============================] - 0s 46ms/step - loss: 0.1894 - outSev_loss: 1.9802 - outLabel_loss: 0.0952 - outSev_outSev_outSev_root_mean_squared_error: 1.5804 - outLabel_accuracy: 0.9582 - val_loss: 0.3133 - val_outSev_loss: 2.9075 - val_outLabel_loss: 0.1767 - val_outSev_outSev_outSev_root_mean_squared_error: 1.7051 - val_outLabel_accuracy: 0.9260\n",
            "Epoch 54/200\n",
            "2/2 [==============================] - 0s 57ms/step - loss: 0.1997 - outSev_loss: 2.1319 - outLabel_loss: 0.0980 - outSev_outSev_outSev_root_mean_squared_error: 1.6251 - outLabel_accuracy: 0.9614 - val_loss: 0.3133 - val_outSev_loss: 2.9076 - val_outLabel_loss: 0.1767 - val_outSev_outSev_outSev_root_mean_squared_error: 1.7052 - val_outLabel_accuracy: 0.9260\n",
            "Epoch 55/200\n",
            "2/2 [==============================] - 0s 50ms/step - loss: 0.2133 - outSev_loss: 2.1768 - outLabel_loss: 0.1100 - outSev_outSev_outSev_root_mean_squared_error: 1.6426 - outLabel_accuracy: 0.9597 - val_loss: 0.3133 - val_outSev_loss: 2.9073 - val_outLabel_loss: 0.1767 - val_outSev_outSev_outSev_root_mean_squared_error: 1.7051 - val_outLabel_accuracy: 0.9260\n",
            "Epoch 56/200\n",
            "2/2 [==============================] - 0s 79ms/step - loss: 0.2107 - outSev_loss: 2.0530 - outLabel_loss: 0.1138 - outSev_outSev_outSev_root_mean_squared_error: 1.5928 - outLabel_accuracy: 0.9605 - val_loss: 0.3133 - val_outSev_loss: 2.9074 - val_outLabel_loss: 0.1767 - val_outSev_outSev_outSev_root_mean_squared_error: 1.7051 - val_outLabel_accuracy: 0.9260\n",
            "Epoch 57/200\n",
            "2/2 [==============================] - 0s 63ms/step - loss: 0.1913 - outSev_loss: 2.0517 - outLabel_loss: 0.0934 - outSev_outSev_outSev_root_mean_squared_error: 1.5960 - outLabel_accuracy: 0.9591 - val_loss: 0.3132 - val_outSev_loss: 2.9074 - val_outLabel_loss: 0.1767 - val_outSev_outSev_outSev_root_mean_squared_error: 1.7051 - val_outLabel_accuracy: 0.9260\n",
            "Epoch 58/200\n",
            "2/2 [==============================] - 0s 69ms/step - loss: 0.2028 - outSev_loss: 2.1119 - outLabel_loss: 0.1023 - outSev_outSev_outSev_root_mean_squared_error: 1.6133 - outLabel_accuracy: 0.9611 - val_loss: 0.3133 - val_outSev_loss: 2.9077 - val_outLabel_loss: 0.1767 - val_outSev_outSev_outSev_root_mean_squared_error: 1.7052 - val_outLabel_accuracy: 0.9260\n",
            "Epoch 59/200\n",
            "2/2 [==============================] - 0s 73ms/step - loss: 0.2170 - outSev_loss: 2.2293 - outLabel_loss: 0.1111 - outSev_outSev_outSev_root_mean_squared_error: 1.6682 - outLabel_accuracy: 0.9582 - val_loss: 0.3133 - val_outSev_loss: 2.9078 - val_outLabel_loss: 0.1767 - val_outSev_outSev_outSev_root_mean_squared_error: 1.7052 - val_outLabel_accuracy: 0.9260\n",
            "Epoch 60/200\n",
            "2/2 [==============================] - 0s 72ms/step - loss: 0.2070 - outSev_loss: 2.0712 - outLabel_loss: 0.1089 - outSev_outSev_outSev_root_mean_squared_error: 1.6018 - outLabel_accuracy: 0.9571 - val_loss: 0.3133 - val_outSev_loss: 2.9079 - val_outLabel_loss: 0.1767 - val_outSev_outSev_outSev_root_mean_squared_error: 1.7053 - val_outLabel_accuracy: 0.9260\n",
            "Epoch 61/200\n",
            "2/2 [==============================] - 0s 57ms/step - loss: 0.2070 - outSev_loss: 2.1060 - outLabel_loss: 0.1071 - outSev_outSev_outSev_root_mean_squared_error: 1.6248 - outLabel_accuracy: 0.9550 - val_loss: 0.3133 - val_outSev_loss: 2.9083 - val_outLabel_loss: 0.1768 - val_outSev_outSev_outSev_root_mean_squared_error: 1.7054 - val_outLabel_accuracy: 0.9260\n",
            "Epoch 62/200\n",
            "2/2 [==============================] - 0s 46ms/step - loss: 0.1965 - outSev_loss: 1.9417 - outLabel_loss: 0.1046 - outSev_outSev_outSev_root_mean_squared_error: 1.5634 - outLabel_accuracy: 0.9605 - val_loss: 0.3133 - val_outSev_loss: 2.9082 - val_outLabel_loss: 0.1767 - val_outSev_outSev_outSev_root_mean_squared_error: 1.7054 - val_outLabel_accuracy: 0.9260\n",
            "Epoch 63/200\n",
            "2/2 [==============================] - 0s 39ms/step - loss: 0.2106 - outSev_loss: 2.1471 - outLabel_loss: 0.1087 - outSev_outSev_outSev_root_mean_squared_error: 1.6253 - outLabel_accuracy: 0.9614 - val_loss: 0.3133 - val_outSev_loss: 2.9083 - val_outLabel_loss: 0.1767 - val_outSev_outSev_outSev_root_mean_squared_error: 1.7054 - val_outLabel_accuracy: 0.9260\n",
            "Epoch 64/200\n",
            "2/2 [==============================] - 0s 76ms/step - loss: 0.2099 - outSev_loss: 2.2081 - outLabel_loss: 0.1047 - outSev_outSev_outSev_root_mean_squared_error: 1.6409 - outLabel_accuracy: 0.9541 - val_loss: 0.3133 - val_outSev_loss: 2.9083 - val_outLabel_loss: 0.1767 - val_outSev_outSev_outSev_root_mean_squared_error: 1.7054 - val_outLabel_accuracy: 0.9260\n",
            "Epoch 65/200\n",
            "2/2 [==============================] - 0s 59ms/step - loss: 0.1952 - outSev_loss: 2.0632 - outLabel_loss: 0.0969 - outSev_outSev_outSev_root_mean_squared_error: 1.5975 - outLabel_accuracy: 0.9600 - val_loss: 0.3133 - val_outSev_loss: 2.9082 - val_outLabel_loss: 0.1767 - val_outSev_outSev_outSev_root_mean_squared_error: 1.7054 - val_outLabel_accuracy: 0.9260\n",
            "Epoch 66/200\n",
            "2/2 [==============================] - 0s 77ms/step - loss: 0.2141 - outSev_loss: 2.1283 - outLabel_loss: 0.1133 - outSev_outSev_outSev_root_mean_squared_error: 1.6289 - outLabel_accuracy: 0.9594 - val_loss: 0.3132 - val_outSev_loss: 2.9081 - val_outLabel_loss: 0.1767 - val_outSev_outSev_outSev_root_mean_squared_error: 1.7053 - val_outLabel_accuracy: 0.9260\n",
            "Epoch 67/200\n",
            "2/2 [==============================] - 0s 59ms/step - loss: 0.1982 - outSev_loss: 2.0266 - outLabel_loss: 0.1020 - outSev_outSev_outSev_root_mean_squared_error: 1.5970 - outLabel_accuracy: 0.9576 - val_loss: 0.3133 - val_outSev_loss: 2.9083 - val_outLabel_loss: 0.1768 - val_outSev_outSev_outSev_root_mean_squared_error: 1.7054 - val_outLabel_accuracy: 0.9260\n",
            "Epoch 68/200\n",
            "2/2 [==============================] - 0s 78ms/step - loss: 0.2145 - outSev_loss: 2.1948 - outLabel_loss: 0.1103 - outSev_outSev_outSev_root_mean_squared_error: 1.6548 - outLabel_accuracy: 0.9568 - val_loss: 0.3133 - val_outSev_loss: 2.9074 - val_outLabel_loss: 0.1768 - val_outSev_outSev_outSev_root_mean_squared_error: 1.7051 - val_outLabel_accuracy: 0.9260\n",
            "Epoch 69/200\n",
            "2/2 [==============================] - 0s 71ms/step - loss: 0.2149 - outSev_loss: 2.1492 - outLabel_loss: 0.1131 - outSev_outSev_outSev_root_mean_squared_error: 1.6265 - outLabel_accuracy: 0.9550 - val_loss: 0.3133 - val_outSev_loss: 2.9071 - val_outLabel_loss: 0.1768 - val_outSev_outSev_outSev_root_mean_squared_error: 1.7050 - val_outLabel_accuracy: 0.9260\n",
            "Epoch 70/200\n",
            "2/2 [==============================] - 0s 71ms/step - loss: 0.2065 - outSev_loss: 2.0833 - outLabel_loss: 0.1077 - outSev_outSev_outSev_root_mean_squared_error: 1.6095 - outLabel_accuracy: 0.9576 - val_loss: 0.3133 - val_outSev_loss: 2.9069 - val_outLabel_loss: 0.1768 - val_outSev_outSev_outSev_root_mean_squared_error: 1.7050 - val_outLabel_accuracy: 0.9260\n",
            "Epoch 71/200\n",
            "2/2 [==============================] - 0s 76ms/step - loss: 0.2044 - outSev_loss: 2.0983 - outLabel_loss: 0.1047 - outSev_outSev_outSev_root_mean_squared_error: 1.6102 - outLabel_accuracy: 0.9579 - val_loss: 0.3134 - val_outSev_loss: 2.9068 - val_outLabel_loss: 0.1769 - val_outSev_outSev_outSev_root_mean_squared_error: 1.7049 - val_outLabel_accuracy: 0.9260\n",
            "Epoch 72/200\n",
            "2/2 [==============================] - 0s 68ms/step - loss: 0.2179 - outSev_loss: 2.1799 - outLabel_loss: 0.1147 - outSev_outSev_outSev_root_mean_squared_error: 1.6500 - outLabel_accuracy: 0.9550 - val_loss: 0.3134 - val_outSev_loss: 2.9068 - val_outLabel_loss: 0.1769 - val_outSev_outSev_outSev_root_mean_squared_error: 1.7049 - val_outLabel_accuracy: 0.9260\n",
            "Epoch 73/200\n",
            "2/2 [==============================] - 0s 70ms/step - loss: 0.2088 - outSev_loss: 2.1912 - outLabel_loss: 0.1044 - outSev_outSev_outSev_root_mean_squared_error: 1.6524 - outLabel_accuracy: 0.9611 - val_loss: 0.3134 - val_outSev_loss: 2.9072 - val_outLabel_loss: 0.1769 - val_outSev_outSev_outSev_root_mean_squared_error: 1.7050 - val_outLabel_accuracy: 0.9260\n",
            "Epoch 74/200\n",
            "2/2 [==============================] - 0s 60ms/step - loss: 0.2259 - outSev_loss: 2.1742 - outLabel_loss: 0.1234 - outSev_outSev_outSev_root_mean_squared_error: 1.6509 - outLabel_accuracy: 0.9565 - val_loss: 0.3135 - val_outSev_loss: 2.9075 - val_outLabel_loss: 0.1769 - val_outSev_outSev_outSev_root_mean_squared_error: 1.7051 - val_outLabel_accuracy: 0.9260\n",
            "Epoch 75/200\n",
            "2/2 [==============================] - 0s 54ms/step - loss: 0.2044 - outSev_loss: 2.1111 - outLabel_loss: 0.1040 - outSev_outSev_outSev_root_mean_squared_error: 1.6287 - outLabel_accuracy: 0.9631 - val_loss: 0.3135 - val_outSev_loss: 2.9074 - val_outLabel_loss: 0.1770 - val_outSev_outSev_outSev_root_mean_squared_error: 1.7051 - val_outLabel_accuracy: 0.9260\n",
            "Epoch 76/200\n",
            "2/2 [==============================] - 0s 72ms/step - loss: 0.2009 - outSev_loss: 2.0391 - outLabel_loss: 0.1042 - outSev_outSev_outSev_root_mean_squared_error: 1.6014 - outLabel_accuracy: 0.9547 - val_loss: 0.3135 - val_outSev_loss: 2.9078 - val_outLabel_loss: 0.1770 - val_outSev_outSev_outSev_root_mean_squared_error: 1.7052 - val_outLabel_accuracy: 0.9260\n",
            "Epoch 77/200\n",
            "2/2 [==============================] - 0s 70ms/step - loss: 0.2013 - outSev_loss: 2.0707 - outLabel_loss: 0.1029 - outSev_outSev_outSev_root_mean_squared_error: 1.6014 - outLabel_accuracy: 0.9553 - val_loss: 0.3135 - val_outSev_loss: 2.9083 - val_outLabel_loss: 0.1770 - val_outSev_outSev_outSev_root_mean_squared_error: 1.7054 - val_outLabel_accuracy: 0.9260\n",
            "Epoch 78/200\n",
            "2/2 [==============================] - 0s 67ms/step - loss: 0.2214 - outSev_loss: 2.2099 - outLabel_loss: 0.1168 - outSev_outSev_outSev_root_mean_squared_error: 1.6522 - outLabel_accuracy: 0.9605 - val_loss: 0.3135 - val_outSev_loss: 2.9084 - val_outLabel_loss: 0.1769 - val_outSev_outSev_outSev_root_mean_squared_error: 1.7054 - val_outLabel_accuracy: 0.9260\n",
            "Epoch 79/200\n",
            "2/2 [==============================] - 0s 77ms/step - loss: 0.2027 - outSev_loss: 2.1071 - outLabel_loss: 0.1025 - outSev_outSev_outSev_root_mean_squared_error: 1.6328 - outLabel_accuracy: 0.9629 - val_loss: 0.3135 - val_outSev_loss: 2.9085 - val_outLabel_loss: 0.1769 - val_outSev_outSev_outSev_root_mean_squared_error: 1.7054 - val_outLabel_accuracy: 0.9260\n",
            "Epoch 80/200\n",
            "2/2 [==============================] - 0s 62ms/step - loss: 0.1965 - outSev_loss: 2.1324 - outLabel_loss: 0.0947 - outSev_outSev_outSev_root_mean_squared_error: 1.6381 - outLabel_accuracy: 0.9623 - val_loss: 0.3135 - val_outSev_loss: 2.9084 - val_outLabel_loss: 0.1769 - val_outSev_outSev_outSev_root_mean_squared_error: 1.7054 - val_outLabel_accuracy: 0.9260\n",
            "Epoch 81/200\n",
            "2/2 [==============================] - 0s 73ms/step - loss: 0.2084 - outSev_loss: 2.0927 - outLabel_loss: 0.1092 - outSev_outSev_outSev_root_mean_squared_error: 1.6078 - outLabel_accuracy: 0.9568 - val_loss: 0.3135 - val_outSev_loss: 2.9085 - val_outLabel_loss: 0.1769 - val_outSev_outSev_outSev_root_mean_squared_error: 1.7054 - val_outLabel_accuracy: 0.9260\n",
            "Epoch 82/200\n",
            "2/2 [==============================] - 0s 69ms/step - loss: 0.2094 - outSev_loss: 2.2247 - outLabel_loss: 0.1034 - outSev_outSev_outSev_root_mean_squared_error: 1.6571 - outLabel_accuracy: 0.9602 - val_loss: 0.3135 - val_outSev_loss: 2.9080 - val_outLabel_loss: 0.1770 - val_outSev_outSev_outSev_root_mean_squared_error: 1.7053 - val_outLabel_accuracy: 0.9260\n",
            "Epoch 83/200\n",
            "2/2 [==============================] - 0s 65ms/step - loss: 0.2141 - outSev_loss: 2.1607 - outLabel_loss: 0.1116 - outSev_outSev_outSev_root_mean_squared_error: 1.6256 - outLabel_accuracy: 0.9510 - val_loss: 0.3135 - val_outSev_loss: 2.9080 - val_outLabel_loss: 0.1770 - val_outSev_outSev_outSev_root_mean_squared_error: 1.7053 - val_outLabel_accuracy: 0.9260\n",
            "Epoch 84/200\n",
            "2/2 [==============================] - 0s 69ms/step - loss: 0.2115 - outSev_loss: 2.1223 - outLabel_loss: 0.1109 - outSev_outSev_outSev_root_mean_squared_error: 1.6293 - outLabel_accuracy: 0.9602 - val_loss: 0.3135 - val_outSev_loss: 2.9081 - val_outLabel_loss: 0.1769 - val_outSev_outSev_outSev_root_mean_squared_error: 1.7053 - val_outLabel_accuracy: 0.9260\n",
            "Epoch 85/200\n",
            "2/2 [==============================] - 0s 109ms/step - loss: 0.2083 - outSev_loss: 2.0622 - outLabel_loss: 0.1107 - outSev_outSev_outSev_root_mean_squared_error: 1.5988 - outLabel_accuracy: 0.9553 - val_loss: 0.3136 - val_outSev_loss: 2.9080 - val_outLabel_loss: 0.1770 - val_outSev_outSev_outSev_root_mean_squared_error: 1.7053 - val_outLabel_accuracy: 0.9260\n",
            "Epoch 86/200\n",
            "2/2 [==============================] - 0s 80ms/step - loss: 0.2210 - outSev_loss: 2.1852 - outLabel_loss: 0.1176 - outSev_outSev_outSev_root_mean_squared_error: 1.6458 - outLabel_accuracy: 0.9623 - val_loss: 0.3136 - val_outSev_loss: 2.9082 - val_outLabel_loss: 0.1771 - val_outSev_outSev_outSev_root_mean_squared_error: 1.7053 - val_outLabel_accuracy: 0.9260\n",
            "Epoch 87/200\n",
            "2/2 [==============================] - 0s 67ms/step - loss: 0.2006 - outSev_loss: 2.1957 - outLabel_loss: 0.0956 - outSev_outSev_outSev_root_mean_squared_error: 1.6400 - outLabel_accuracy: 0.9524 - val_loss: 0.3136 - val_outSev_loss: 2.9077 - val_outLabel_loss: 0.1771 - val_outSev_outSev_outSev_root_mean_squared_error: 1.7052 - val_outLabel_accuracy: 0.9260\n",
            "Epoch 88/200\n",
            "2/2 [==============================] - 0s 67ms/step - loss: 0.1975 - outSev_loss: 2.1995 - outLabel_loss: 0.0921 - outSev_outSev_outSev_root_mean_squared_error: 1.6544 - outLabel_accuracy: 0.9600 - val_loss: 0.3136 - val_outSev_loss: 2.9075 - val_outLabel_loss: 0.1771 - val_outSev_outSev_outSev_root_mean_squared_error: 1.7051 - val_outLabel_accuracy: 0.9260\n",
            "Epoch 89/200\n",
            "2/2 [==============================] - 0s 65ms/step - loss: 0.2191 - outSev_loss: 2.1728 - outLabel_loss: 0.1162 - outSev_outSev_outSev_root_mean_squared_error: 1.6432 - outLabel_accuracy: 0.9559 - val_loss: 0.3136 - val_outSev_loss: 2.9071 - val_outLabel_loss: 0.1771 - val_outSev_outSev_outSev_root_mean_squared_error: 1.7050 - val_outLabel_accuracy: 0.9260\n",
            "Epoch 90/200\n",
            "2/2 [==============================] - 0s 57ms/step - loss: 0.2129 - outSev_loss: 2.1017 - outLabel_loss: 0.1135 - outSev_outSev_outSev_root_mean_squared_error: 1.6088 - outLabel_accuracy: 0.9521 - val_loss: 0.3136 - val_outSev_loss: 2.9069 - val_outLabel_loss: 0.1772 - val_outSev_outSev_outSev_root_mean_squared_error: 1.7050 - val_outLabel_accuracy: 0.9260\n",
            "Epoch 91/200\n",
            "2/2 [==============================] - 0s 71ms/step - loss: 0.2025 - outSev_loss: 2.1042 - outLabel_loss: 0.1024 - outSev_outSev_outSev_root_mean_squared_error: 1.6153 - outLabel_accuracy: 0.9568 - val_loss: 0.3136 - val_outSev_loss: 2.9068 - val_outLabel_loss: 0.1771 - val_outSev_outSev_outSev_root_mean_squared_error: 1.7049 - val_outLabel_accuracy: 0.9260\n",
            "Epoch 92/200\n",
            "2/2 [==============================] - 0s 57ms/step - loss: 0.2078 - outSev_loss: 2.1408 - outLabel_loss: 0.1060 - outSev_outSev_outSev_root_mean_squared_error: 1.6320 - outLabel_accuracy: 0.9602 - val_loss: 0.3136 - val_outSev_loss: 2.9066 - val_outLabel_loss: 0.1771 - val_outSev_outSev_outSev_root_mean_squared_error: 1.7049 - val_outLabel_accuracy: 0.9260\n",
            "Epoch 93/200\n",
            "2/2 [==============================] - 0s 57ms/step - loss: 0.2189 - outSev_loss: 2.1489 - outLabel_loss: 0.1173 - outSev_outSev_outSev_root_mean_squared_error: 1.6161 - outLabel_accuracy: 0.9597 - val_loss: 0.3136 - val_outSev_loss: 2.9071 - val_outLabel_loss: 0.1771 - val_outSev_outSev_outSev_root_mean_squared_error: 1.7050 - val_outLabel_accuracy: 0.9260\n",
            "Epoch 94/200\n",
            "2/2 [==============================] - 0s 59ms/step - loss: 0.1964 - outSev_loss: 2.0907 - outLabel_loss: 0.0967 - outSev_outSev_outSev_root_mean_squared_error: 1.6239 - outLabel_accuracy: 0.9602 - val_loss: 0.3136 - val_outSev_loss: 2.9069 - val_outLabel_loss: 0.1771 - val_outSev_outSev_outSev_root_mean_squared_error: 1.7050 - val_outLabel_accuracy: 0.9260\n",
            "Epoch 95/200\n",
            "2/2 [==============================] - 0s 60ms/step - loss: 0.2109 - outSev_loss: 2.2218 - outLabel_loss: 0.1051 - outSev_outSev_outSev_root_mean_squared_error: 1.6513 - outLabel_accuracy: 0.9591 - val_loss: 0.3135 - val_outSev_loss: 2.9068 - val_outLabel_loss: 0.1770 - val_outSev_outSev_outSev_root_mean_squared_error: 1.7049 - val_outLabel_accuracy: 0.9260\n",
            "Epoch 96/200\n",
            "2/2 [==============================] - 0s 65ms/step - loss: 0.2029 - outSev_loss: 2.0778 - outLabel_loss: 0.1042 - outSev_outSev_outSev_root_mean_squared_error: 1.6226 - outLabel_accuracy: 0.9608 - val_loss: 0.3135 - val_outSev_loss: 2.9066 - val_outLabel_loss: 0.1770 - val_outSev_outSev_outSev_root_mean_squared_error: 1.7049 - val_outLabel_accuracy: 0.9260\n",
            "Epoch 97/200\n",
            "2/2 [==============================] - 0s 71ms/step - loss: 0.2051 - outSev_loss: 2.0811 - outLabel_loss: 0.1063 - outSev_outSev_outSev_root_mean_squared_error: 1.6056 - outLabel_accuracy: 0.9585 - val_loss: 0.3134 - val_outSev_loss: 2.9066 - val_outLabel_loss: 0.1770 - val_outSev_outSev_outSev_root_mean_squared_error: 1.7049 - val_outLabel_accuracy: 0.9260\n",
            "Epoch 98/200\n",
            "2/2 [==============================] - 0s 59ms/step - loss: 0.1985 - outSev_loss: 2.0571 - outLabel_loss: 0.1007 - outSev_outSev_outSev_root_mean_squared_error: 1.5934 - outLabel_accuracy: 0.9602 - val_loss: 0.3134 - val_outSev_loss: 2.9064 - val_outLabel_loss: 0.1770 - val_outSev_outSev_outSev_root_mean_squared_error: 1.7048 - val_outLabel_accuracy: 0.9260\n",
            "Epoch 99/200\n",
            "2/2 [==============================] - 0s 85ms/step - loss: 0.1860 - outSev_loss: 1.9483 - outLabel_loss: 0.0932 - outSev_outSev_outSev_root_mean_squared_error: 1.5588 - outLabel_accuracy: 0.9634 - val_loss: 0.3135 - val_outSev_loss: 2.9067 - val_outLabel_loss: 0.1770 - val_outSev_outSev_outSev_root_mean_squared_error: 1.7049 - val_outLabel_accuracy: 0.9260\n",
            "Epoch 100/200\n",
            "2/2 [==============================] - 0s 75ms/step - loss: 0.2045 - outSev_loss: 2.1489 - outLabel_loss: 0.1022 - outSev_outSev_outSev_root_mean_squared_error: 1.6371 - outLabel_accuracy: 0.9521 - val_loss: 0.3135 - val_outSev_loss: 2.9067 - val_outLabel_loss: 0.1770 - val_outSev_outSev_outSev_root_mean_squared_error: 1.7049 - val_outLabel_accuracy: 0.9260\n",
            "Epoch 101/200\n",
            "2/2 [==============================] - 0s 72ms/step - loss: 0.2101 - outSev_loss: 2.2009 - outLabel_loss: 0.1053 - outSev_outSev_outSev_root_mean_squared_error: 1.6537 - outLabel_accuracy: 0.9553 - val_loss: 0.3135 - val_outSev_loss: 2.9069 - val_outLabel_loss: 0.1770 - val_outSev_outSev_outSev_root_mean_squared_error: 1.7050 - val_outLabel_accuracy: 0.9260\n",
            "Epoch 102/200\n",
            "2/2 [==============================] - 0s 60ms/step - loss: 0.2046 - outSev_loss: 2.0825 - outLabel_loss: 0.1057 - outSev_outSev_outSev_root_mean_squared_error: 1.6148 - outLabel_accuracy: 0.9539 - val_loss: 0.3135 - val_outSev_loss: 2.9069 - val_outLabel_loss: 0.1771 - val_outSev_outSev_outSev_root_mean_squared_error: 1.7050 - val_outLabel_accuracy: 0.9260\n",
            "Epoch 103/200\n",
            "2/2 [==============================] - 0s 71ms/step - loss: 0.2084 - outSev_loss: 2.0548 - outLabel_loss: 0.1113 - outSev_outSev_outSev_root_mean_squared_error: 1.5982 - outLabel_accuracy: 0.9541 - val_loss: 0.3136 - val_outSev_loss: 2.9070 - val_outLabel_loss: 0.1771 - val_outSev_outSev_outSev_root_mean_squared_error: 1.7050 - val_outLabel_accuracy: 0.9260\n",
            "Epoch 104/200\n",
            "2/2 [==============================] - 0s 68ms/step - loss: 0.2073 - outSev_loss: 2.1191 - outLabel_loss: 0.1066 - outSev_outSev_outSev_root_mean_squared_error: 1.6180 - outLabel_accuracy: 0.9640 - val_loss: 0.3136 - val_outSev_loss: 2.9064 - val_outLabel_loss: 0.1771 - val_outSev_outSev_outSev_root_mean_squared_error: 1.7048 - val_outLabel_accuracy: 0.9260\n",
            "Epoch 105/200\n",
            "2/2 [==============================] - 0s 88ms/step - loss: 0.2014 - outSev_loss: 2.0752 - outLabel_loss: 0.1027 - outSev_outSev_outSev_root_mean_squared_error: 1.6134 - outLabel_accuracy: 0.9594 - val_loss: 0.3135 - val_outSev_loss: 2.9057 - val_outLabel_loss: 0.1771 - val_outSev_outSev_outSev_root_mean_squared_error: 1.7046 - val_outLabel_accuracy: 0.9260\n",
            "Epoch 106/200\n",
            "2/2 [==============================] - 0s 58ms/step - loss: 0.2116 - outSev_loss: 2.2290 - outLabel_loss: 0.1054 - outSev_outSev_outSev_root_mean_squared_error: 1.6657 - outLabel_accuracy: 0.9597 - val_loss: 0.3135 - val_outSev_loss: 2.9060 - val_outLabel_loss: 0.1771 - val_outSev_outSev_outSev_root_mean_squared_error: 1.7047 - val_outLabel_accuracy: 0.9260\n",
            "Epoch 107/200\n",
            "2/2 [==============================] - 0s 45ms/step - loss: 0.1961 - outSev_loss: 2.1062 - outLabel_loss: 0.0956 - outSev_outSev_outSev_root_mean_squared_error: 1.6143 - outLabel_accuracy: 0.9565 - val_loss: 0.3135 - val_outSev_loss: 2.9055 - val_outLabel_loss: 0.1771 - val_outSev_outSev_outSev_root_mean_squared_error: 1.7046 - val_outLabel_accuracy: 0.9260\n",
            "Epoch 108/200\n",
            "2/2 [==============================] - 0s 57ms/step - loss: 0.2092 - outSev_loss: 2.1171 - outLabel_loss: 0.1088 - outSev_outSev_outSev_root_mean_squared_error: 1.6141 - outLabel_accuracy: 0.9550 - val_loss: 0.3135 - val_outSev_loss: 2.9053 - val_outLabel_loss: 0.1771 - val_outSev_outSev_outSev_root_mean_squared_error: 1.7045 - val_outLabel_accuracy: 0.9260\n",
            "Epoch 109/200\n",
            "2/2 [==============================] - 0s 60ms/step - loss: 0.2101 - outSev_loss: 2.2074 - outLabel_loss: 0.1050 - outSev_outSev_outSev_root_mean_squared_error: 1.6526 - outLabel_accuracy: 0.9608 - val_loss: 0.3135 - val_outSev_loss: 2.9050 - val_outLabel_loss: 0.1771 - val_outSev_outSev_outSev_root_mean_squared_error: 1.7044 - val_outLabel_accuracy: 0.9260\n",
            "Epoch 110/200\n",
            "2/2 [==============================] - 0s 44ms/step - loss: 0.2168 - outSev_loss: 2.1706 - outLabel_loss: 0.1140 - outSev_outSev_outSev_root_mean_squared_error: 1.6313 - outLabel_accuracy: 0.9533 - val_loss: 0.3135 - val_outSev_loss: 2.9052 - val_outLabel_loss: 0.1771 - val_outSev_outSev_outSev_root_mean_squared_error: 1.7045 - val_outLabel_accuracy: 0.9260\n",
            "Epoch 111/200\n",
            "2/2 [==============================] - 0s 57ms/step - loss: 0.2004 - outSev_loss: 2.1220 - outLabel_loss: 0.0993 - outSev_outSev_outSev_root_mean_squared_error: 1.6170 - outLabel_accuracy: 0.9605 - val_loss: 0.3135 - val_outSev_loss: 2.9054 - val_outLabel_loss: 0.1771 - val_outSev_outSev_outSev_root_mean_squared_error: 1.7045 - val_outLabel_accuracy: 0.9260\n",
            "Epoch 112/200\n",
            "2/2 [==============================] - 0s 46ms/step - loss: 0.2111 - outSev_loss: 2.1162 - outLabel_loss: 0.1109 - outSev_outSev_outSev_root_mean_squared_error: 1.6292 - outLabel_accuracy: 0.9600 - val_loss: 0.3135 - val_outSev_loss: 2.9052 - val_outLabel_loss: 0.1771 - val_outSev_outSev_outSev_root_mean_squared_error: 1.7045 - val_outLabel_accuracy: 0.9260\n",
            "Epoch 113/200\n",
            "2/2 [==============================] - 0s 57ms/step - loss: 0.2096 - outSev_loss: 2.0924 - outLabel_loss: 0.1105 - outSev_outSev_outSev_root_mean_squared_error: 1.6116 - outLabel_accuracy: 0.9553 - val_loss: 0.3135 - val_outSev_loss: 2.9052 - val_outLabel_loss: 0.1771 - val_outSev_outSev_outSev_root_mean_squared_error: 1.7045 - val_outLabel_accuracy: 0.9260\n",
            "Epoch 114/200\n",
            "2/2 [==============================] - 0s 44ms/step - loss: 0.1941 - outSev_loss: 2.0320 - outLabel_loss: 0.0974 - outSev_outSev_outSev_root_mean_squared_error: 1.5950 - outLabel_accuracy: 0.9614 - val_loss: 0.3136 - val_outSev_loss: 2.9055 - val_outLabel_loss: 0.1771 - val_outSev_outSev_outSev_root_mean_squared_error: 1.7046 - val_outLabel_accuracy: 0.9260\n",
            "Epoch 115/200\n",
            "2/2 [==============================] - 0s 56ms/step - loss: 0.2170 - outSev_loss: 2.0327 - outLabel_loss: 0.1215 - outSev_outSev_outSev_root_mean_squared_error: 1.5924 - outLabel_accuracy: 0.9597 - val_loss: 0.3135 - val_outSev_loss: 2.9058 - val_outLabel_loss: 0.1771 - val_outSev_outSev_outSev_root_mean_squared_error: 1.7046 - val_outLabel_accuracy: 0.9260\n",
            "Epoch 116/200\n",
            "2/2 [==============================] - 0s 40ms/step - loss: 0.2101 - outSev_loss: 2.1065 - outLabel_loss: 0.1103 - outSev_outSev_outSev_root_mean_squared_error: 1.6104 - outLabel_accuracy: 0.9565 - val_loss: 0.3136 - val_outSev_loss: 2.9051 - val_outLabel_loss: 0.1772 - val_outSev_outSev_outSev_root_mean_squared_error: 1.7044 - val_outLabel_accuracy: 0.9260\n",
            "Epoch 117/200\n",
            "2/2 [==============================] - 0s 44ms/step - loss: 0.2023 - outSev_loss: 2.1113 - outLabel_loss: 0.1018 - outSev_outSev_outSev_root_mean_squared_error: 1.6177 - outLabel_accuracy: 0.9602 - val_loss: 0.3136 - val_outSev_loss: 2.9056 - val_outLabel_loss: 0.1772 - val_outSev_outSev_outSev_root_mean_squared_error: 1.7046 - val_outLabel_accuracy: 0.9260\n",
            "Epoch 118/200\n",
            "2/2 [==============================] - 0s 57ms/step - loss: 0.2053 - outSev_loss: 2.1282 - outLabel_loss: 0.1041 - outSev_outSev_outSev_root_mean_squared_error: 1.6218 - outLabel_accuracy: 0.9640 - val_loss: 0.3136 - val_outSev_loss: 2.9056 - val_outLabel_loss: 0.1772 - val_outSev_outSev_outSev_root_mean_squared_error: 1.7046 - val_outLabel_accuracy: 0.9260\n",
            "Epoch 119/200\n",
            "2/2 [==============================] - 0s 42ms/step - loss: 0.2113 - outSev_loss: 2.1134 - outLabel_loss: 0.1112 - outSev_outSev_outSev_root_mean_squared_error: 1.6307 - outLabel_accuracy: 0.9611 - val_loss: 0.3137 - val_outSev_loss: 2.9055 - val_outLabel_loss: 0.1773 - val_outSev_outSev_outSev_root_mean_squared_error: 1.7045 - val_outLabel_accuracy: 0.9260\n",
            "Epoch 120/200\n",
            "2/2 [==============================] - 0s 61ms/step - loss: 0.1935 - outSev_loss: 2.0426 - outLabel_loss: 0.0962 - outSev_outSev_outSev_root_mean_squared_error: 1.5905 - outLabel_accuracy: 0.9608 - val_loss: 0.3137 - val_outSev_loss: 2.9055 - val_outLabel_loss: 0.1773 - val_outSev_outSev_outSev_root_mean_squared_error: 1.7046 - val_outLabel_accuracy: 0.9260\n",
            "Epoch 121/200\n",
            "2/2 [==============================] - 0s 64ms/step - loss: 0.2025 - outSev_loss: 2.1304 - outLabel_loss: 0.1011 - outSev_outSev_outSev_root_mean_squared_error: 1.6240 - outLabel_accuracy: 0.9582 - val_loss: 0.3137 - val_outSev_loss: 2.9053 - val_outLabel_loss: 0.1773 - val_outSev_outSev_outSev_root_mean_squared_error: 1.7045 - val_outLabel_accuracy: 0.9260\n",
            "Epoch 122/200\n",
            "2/2 [==============================] - 0s 57ms/step - loss: 0.2144 - outSev_loss: 2.1978 - outLabel_loss: 0.1100 - outSev_outSev_outSev_root_mean_squared_error: 1.6487 - outLabel_accuracy: 0.9571 - val_loss: 0.3137 - val_outSev_loss: 2.9054 - val_outLabel_loss: 0.1773 - val_outSev_outSev_outSev_root_mean_squared_error: 1.7045 - val_outLabel_accuracy: 0.9260\n",
            "Epoch 123/200\n",
            "2/2 [==============================] - 0s 60ms/step - loss: 0.2134 - outSev_loss: 2.2047 - outLabel_loss: 0.1086 - outSev_outSev_outSev_root_mean_squared_error: 1.6450 - outLabel_accuracy: 0.9550 - val_loss: 0.3137 - val_outSev_loss: 2.9059 - val_outLabel_loss: 0.1773 - val_outSev_outSev_outSev_root_mean_squared_error: 1.7047 - val_outLabel_accuracy: 0.9260\n",
            "Epoch 124/200\n",
            "2/2 [==============================] - 0s 63ms/step - loss: 0.2088 - outSev_loss: 2.1582 - outLabel_loss: 0.1062 - outSev_outSev_outSev_root_mean_squared_error: 1.6301 - outLabel_accuracy: 0.9579 - val_loss: 0.3137 - val_outSev_loss: 2.9060 - val_outLabel_loss: 0.1773 - val_outSev_outSev_outSev_root_mean_squared_error: 1.7047 - val_outLabel_accuracy: 0.9260\n",
            "Epoch 125/200\n",
            "2/2 [==============================] - 0s 48ms/step - loss: 0.1910 - outSev_loss: 2.0969 - outLabel_loss: 0.0907 - outSev_outSev_outSev_root_mean_squared_error: 1.6171 - outLabel_accuracy: 0.9623 - val_loss: 0.3137 - val_outSev_loss: 2.9062 - val_outLabel_loss: 0.1773 - val_outSev_outSev_outSev_root_mean_squared_error: 1.7048 - val_outLabel_accuracy: 0.9260\n",
            "Epoch 126/200\n",
            "2/2 [==============================] - 0s 43ms/step - loss: 0.2078 - outSev_loss: 2.1369 - outLabel_loss: 0.1062 - outSev_outSev_outSev_root_mean_squared_error: 1.6213 - outLabel_accuracy: 0.9550 - val_loss: 0.3137 - val_outSev_loss: 2.9059 - val_outLabel_loss: 0.1773 - val_outSev_outSev_outSev_root_mean_squared_error: 1.7047 - val_outLabel_accuracy: 0.9260\n",
            "Epoch 127/200\n",
            "2/2 [==============================] - 0s 56ms/step - loss: 0.2098 - outSev_loss: 2.1320 - outLabel_loss: 0.1087 - outSev_outSev_outSev_root_mean_squared_error: 1.6183 - outLabel_accuracy: 0.9576 - val_loss: 0.3137 - val_outSev_loss: 2.9059 - val_outLabel_loss: 0.1773 - val_outSev_outSev_outSev_root_mean_squared_error: 1.7047 - val_outLabel_accuracy: 0.9260\n",
            "Epoch 128/200\n",
            "2/2 [==============================] - 0s 47ms/step - loss: 0.2075 - outSev_loss: 2.0864 - outLabel_loss: 0.1086 - outSev_outSev_outSev_root_mean_squared_error: 1.6159 - outLabel_accuracy: 0.9527 - val_loss: 0.3137 - val_outSev_loss: 2.9059 - val_outLabel_loss: 0.1772 - val_outSev_outSev_outSev_root_mean_squared_error: 1.7047 - val_outLabel_accuracy: 0.9260\n",
            "Epoch 129/200\n",
            "2/2 [==============================] - 0s 44ms/step - loss: 0.1880 - outSev_loss: 2.0726 - outLabel_loss: 0.0888 - outSev_outSev_outSev_root_mean_squared_error: 1.6049 - outLabel_accuracy: 0.9623 - val_loss: 0.3136 - val_outSev_loss: 2.9058 - val_outLabel_loss: 0.1772 - val_outSev_outSev_outSev_root_mean_squared_error: 1.7046 - val_outLabel_accuracy: 0.9260\n",
            "Epoch 130/200\n",
            "2/2 [==============================] - 0s 49ms/step - loss: 0.2065 - outSev_loss: 2.0940 - outLabel_loss: 0.1071 - outSev_outSev_outSev_root_mean_squared_error: 1.6166 - outLabel_accuracy: 0.9556 - val_loss: 0.3136 - val_outSev_loss: 2.9055 - val_outLabel_loss: 0.1772 - val_outSev_outSev_outSev_root_mean_squared_error: 1.7046 - val_outLabel_accuracy: 0.9260\n",
            "Epoch 131/200\n",
            "2/2 [==============================] - 0s 56ms/step - loss: 0.2084 - outSev_loss: 2.2028 - outLabel_loss: 0.1034 - outSev_outSev_outSev_root_mean_squared_error: 1.6427 - outLabel_accuracy: 0.9559 - val_loss: 0.3136 - val_outSev_loss: 2.9055 - val_outLabel_loss: 0.1772 - val_outSev_outSev_outSev_root_mean_squared_error: 1.7046 - val_outLabel_accuracy: 0.9260\n",
            "Epoch 132/200\n",
            "2/2 [==============================] - 0s 44ms/step - loss: 0.2106 - outSev_loss: 2.1607 - outLabel_loss: 0.1080 - outSev_outSev_outSev_root_mean_squared_error: 1.6435 - outLabel_accuracy: 0.9512 - val_loss: 0.3136 - val_outSev_loss: 2.9053 - val_outLabel_loss: 0.1772 - val_outSev_outSev_outSev_root_mean_squared_error: 1.7045 - val_outLabel_accuracy: 0.9260\n",
            "Epoch 133/200\n",
            "2/2 [==============================] - 0s 57ms/step - loss: 0.2089 - outSev_loss: 2.0328 - outLabel_loss: 0.1129 - outSev_outSev_outSev_root_mean_squared_error: 1.5957 - outLabel_accuracy: 0.9585 - val_loss: 0.3135 - val_outSev_loss: 2.9052 - val_outLabel_loss: 0.1771 - val_outSev_outSev_outSev_root_mean_squared_error: 1.7045 - val_outLabel_accuracy: 0.9260\n",
            "Epoch 134/200\n",
            "2/2 [==============================] - 0s 58ms/step - loss: 0.2043 - outSev_loss: 2.1352 - outLabel_loss: 0.1027 - outSev_outSev_outSev_root_mean_squared_error: 1.6273 - outLabel_accuracy: 0.9605 - val_loss: 0.3135 - val_outSev_loss: 2.9054 - val_outLabel_loss: 0.1771 - val_outSev_outSev_outSev_root_mean_squared_error: 1.7045 - val_outLabel_accuracy: 0.9260\n",
            "Epoch 135/200\n",
            "2/2 [==============================] - 0s 43ms/step - loss: 0.2019 - outSev_loss: 2.1010 - outLabel_loss: 0.1020 - outSev_outSev_outSev_root_mean_squared_error: 1.6168 - outLabel_accuracy: 0.9585 - val_loss: 0.3135 - val_outSev_loss: 2.9058 - val_outLabel_loss: 0.1770 - val_outSev_outSev_outSev_root_mean_squared_error: 1.7046 - val_outLabel_accuracy: 0.9260\n",
            "Epoch 136/200\n",
            "2/2 [==============================] - 0s 56ms/step - loss: 0.2085 - outSev_loss: 2.1155 - outLabel_loss: 0.1082 - outSev_outSev_outSev_root_mean_squared_error: 1.6118 - outLabel_accuracy: 0.9663 - val_loss: 0.3135 - val_outSev_loss: 2.9056 - val_outLabel_loss: 0.1770 - val_outSev_outSev_outSev_root_mean_squared_error: 1.7046 - val_outLabel_accuracy: 0.9260\n",
            "Epoch 137/200\n",
            "2/2 [==============================] - 0s 48ms/step - loss: 0.1990 - outSev_loss: 2.1563 - outLabel_loss: 0.0960 - outSev_outSev_outSev_root_mean_squared_error: 1.6290 - outLabel_accuracy: 0.9594 - val_loss: 0.3135 - val_outSev_loss: 2.9052 - val_outLabel_loss: 0.1771 - val_outSev_outSev_outSev_root_mean_squared_error: 1.7045 - val_outLabel_accuracy: 0.9260\n",
            "Epoch 138/200\n",
            "2/2 [==============================] - 0s 53ms/step - loss: 0.2080 - outSev_loss: 2.1762 - outLabel_loss: 0.1044 - outSev_outSev_outSev_root_mean_squared_error: 1.6267 - outLabel_accuracy: 0.9568 - val_loss: 0.3135 - val_outSev_loss: 2.9051 - val_outLabel_loss: 0.1771 - val_outSev_outSev_outSev_root_mean_squared_error: 1.7044 - val_outLabel_accuracy: 0.9260\n",
            "Epoch 139/200\n",
            "2/2 [==============================] - 0s 54ms/step - loss: 0.2013 - outSev_loss: 2.1200 - outLabel_loss: 0.1003 - outSev_outSev_outSev_root_mean_squared_error: 1.6232 - outLabel_accuracy: 0.9588 - val_loss: 0.3134 - val_outSev_loss: 2.9041 - val_outLabel_loss: 0.1771 - val_outSev_outSev_outSev_root_mean_squared_error: 1.7041 - val_outLabel_accuracy: 0.9260\n",
            "Epoch 140/200\n",
            "2/2 [==============================] - 0s 59ms/step - loss: 0.2066 - outSev_loss: 2.1755 - outLabel_loss: 0.1030 - outSev_outSev_outSev_root_mean_squared_error: 1.6426 - outLabel_accuracy: 0.9620 - val_loss: 0.3135 - val_outSev_loss: 2.9043 - val_outLabel_loss: 0.1771 - val_outSev_outSev_outSev_root_mean_squared_error: 1.7042 - val_outLabel_accuracy: 0.9260\n",
            "Epoch 141/200\n",
            "2/2 [==============================] - 0s 58ms/step - loss: 0.2078 - outSev_loss: 2.0895 - outLabel_loss: 0.1088 - outSev_outSev_outSev_root_mean_squared_error: 1.6086 - outLabel_accuracy: 0.9565 - val_loss: 0.3135 - val_outSev_loss: 2.9038 - val_outLabel_loss: 0.1771 - val_outSev_outSev_outSev_root_mean_squared_error: 1.7041 - val_outLabel_accuracy: 0.9260\n",
            "Epoch 142/200\n",
            "2/2 [==============================] - 0s 61ms/step - loss: 0.2062 - outSev_loss: 2.1941 - outLabel_loss: 0.1016 - outSev_outSev_outSev_root_mean_squared_error: 1.6408 - outLabel_accuracy: 0.9582 - val_loss: 0.3134 - val_outSev_loss: 2.9042 - val_outLabel_loss: 0.1771 - val_outSev_outSev_outSev_root_mean_squared_error: 1.7042 - val_outLabel_accuracy: 0.9260\n",
            "Epoch 143/200\n",
            "2/2 [==============================] - 0s 57ms/step - loss: 0.2249 - outSev_loss: 2.1962 - outLabel_loss: 0.1212 - outSev_outSev_outSev_root_mean_squared_error: 1.6410 - outLabel_accuracy: 0.9518 - val_loss: 0.3135 - val_outSev_loss: 2.9042 - val_outLabel_loss: 0.1771 - val_outSev_outSev_outSev_root_mean_squared_error: 1.7042 - val_outLabel_accuracy: 0.9260\n",
            "Epoch 144/200\n",
            "2/2 [==============================] - 0s 57ms/step - loss: 0.2063 - outSev_loss: 2.1044 - outLabel_loss: 0.1064 - outSev_outSev_outSev_root_mean_squared_error: 1.6162 - outLabel_accuracy: 0.9573 - val_loss: 0.3134 - val_outSev_loss: 2.9036 - val_outLabel_loss: 0.1771 - val_outSev_outSev_outSev_root_mean_squared_error: 1.7040 - val_outLabel_accuracy: 0.9260\n",
            "Epoch 145/200\n",
            "2/2 [==============================] - 0s 60ms/step - loss: 0.2121 - outSev_loss: 2.1734 - outLabel_loss: 0.1088 - outSev_outSev_outSev_root_mean_squared_error: 1.6324 - outLabel_accuracy: 0.9547 - val_loss: 0.3135 - val_outSev_loss: 2.9037 - val_outLabel_loss: 0.1771 - val_outSev_outSev_outSev_root_mean_squared_error: 1.7040 - val_outLabel_accuracy: 0.9260\n",
            "Epoch 146/200\n",
            "2/2 [==============================] - 0s 45ms/step - loss: 0.1896 - outSev_loss: 2.0621 - outLabel_loss: 0.0910 - outSev_outSev_outSev_root_mean_squared_error: 1.6027 - outLabel_accuracy: 0.9637 - val_loss: 0.3135 - val_outSev_loss: 2.9038 - val_outLabel_loss: 0.1771 - val_outSev_outSev_outSev_root_mean_squared_error: 1.7041 - val_outLabel_accuracy: 0.9260\n",
            "Epoch 147/200\n",
            "2/2 [==============================] - 0s 46ms/step - loss: 0.2135 - outSev_loss: 2.1763 - outLabel_loss: 0.1102 - outSev_outSev_outSev_root_mean_squared_error: 1.6491 - outLabel_accuracy: 0.9539 - val_loss: 0.3134 - val_outSev_loss: 2.9036 - val_outLabel_loss: 0.1771 - val_outSev_outSev_outSev_root_mean_squared_error: 1.7040 - val_outLabel_accuracy: 0.9260\n",
            "Epoch 148/200\n",
            "2/2 [==============================] - 0s 59ms/step - loss: 0.2120 - outSev_loss: 2.1982 - outLabel_loss: 0.1075 - outSev_outSev_outSev_root_mean_squared_error: 1.6360 - outLabel_accuracy: 0.9553 - val_loss: 0.3134 - val_outSev_loss: 2.9031 - val_outLabel_loss: 0.1771 - val_outSev_outSev_outSev_root_mean_squared_error: 1.7038 - val_outLabel_accuracy: 0.9260\n",
            "Epoch 149/200\n",
            "2/2 [==============================] - 0s 57ms/step - loss: 0.2075 - outSev_loss: 2.1447 - outLabel_loss: 0.1056 - outSev_outSev_outSev_root_mean_squared_error: 1.6244 - outLabel_accuracy: 0.9579 - val_loss: 0.3134 - val_outSev_loss: 2.9034 - val_outLabel_loss: 0.1771 - val_outSev_outSev_outSev_root_mean_squared_error: 1.7039 - val_outLabel_accuracy: 0.9260\n",
            "Epoch 150/200\n",
            "2/2 [==============================] - 0s 44ms/step - loss: 0.2058 - outSev_loss: 2.2537 - outLabel_loss: 0.0980 - outSev_outSev_outSev_root_mean_squared_error: 1.6652 - outLabel_accuracy: 0.9573 - val_loss: 0.3134 - val_outSev_loss: 2.9035 - val_outLabel_loss: 0.1771 - val_outSev_outSev_outSev_root_mean_squared_error: 1.7040 - val_outLabel_accuracy: 0.9260\n",
            "Epoch 151/200\n",
            "2/2 [==============================] - 0s 41ms/step - loss: 0.2085 - outSev_loss: 2.0824 - outLabel_loss: 0.1098 - outSev_outSev_outSev_root_mean_squared_error: 1.6182 - outLabel_accuracy: 0.9602 - val_loss: 0.3133 - val_outSev_loss: 2.9034 - val_outLabel_loss: 0.1770 - val_outSev_outSev_outSev_root_mean_squared_error: 1.7039 - val_outLabel_accuracy: 0.9260\n",
            "Epoch 152/200\n",
            "2/2 [==============================] - 0s 55ms/step - loss: 0.2072 - outSev_loss: 2.1079 - outLabel_loss: 0.1072 - outSev_outSev_outSev_root_mean_squared_error: 1.6177 - outLabel_accuracy: 0.9579 - val_loss: 0.3133 - val_outSev_loss: 2.9034 - val_outLabel_loss: 0.1770 - val_outSev_outSev_outSev_root_mean_squared_error: 1.7039 - val_outLabel_accuracy: 0.9260\n",
            "Epoch 153/200\n",
            "2/2 [==============================] - 0s 45ms/step - loss: 0.2111 - outSev_loss: 2.1075 - outLabel_loss: 0.1113 - outSev_outSev_outSev_root_mean_squared_error: 1.6242 - outLabel_accuracy: 0.9536 - val_loss: 0.3133 - val_outSev_loss: 2.9033 - val_outLabel_loss: 0.1770 - val_outSev_outSev_outSev_root_mean_squared_error: 1.7039 - val_outLabel_accuracy: 0.9260\n",
            "Epoch 154/200\n",
            "2/2 [==============================] - 0s 41ms/step - loss: 0.2163 - outSev_loss: 2.1495 - outLabel_loss: 0.1146 - outSev_outSev_outSev_root_mean_squared_error: 1.6302 - outLabel_accuracy: 0.9588 - val_loss: 0.3133 - val_outSev_loss: 2.9030 - val_outLabel_loss: 0.1770 - val_outSev_outSev_outSev_root_mean_squared_error: 1.7038 - val_outLabel_accuracy: 0.9260\n",
            "Epoch 155/200\n",
            "2/2 [==============================] - 0s 57ms/step - loss: 0.1989 - outSev_loss: 2.0789 - outLabel_loss: 0.1000 - outSev_outSev_outSev_root_mean_squared_error: 1.6074 - outLabel_accuracy: 0.9623 - val_loss: 0.3133 - val_outSev_loss: 2.9033 - val_outLabel_loss: 0.1770 - val_outSev_outSev_outSev_root_mean_squared_error: 1.7039 - val_outLabel_accuracy: 0.9260\n",
            "Epoch 156/200\n",
            "2/2 [==============================] - 0s 44ms/step - loss: 0.2071 - outSev_loss: 2.0484 - outLabel_loss: 0.1101 - outSev_outSev_outSev_root_mean_squared_error: 1.5894 - outLabel_accuracy: 0.9544 - val_loss: 0.3132 - val_outSev_loss: 2.9035 - val_outLabel_loss: 0.1769 - val_outSev_outSev_outSev_root_mean_squared_error: 1.7040 - val_outLabel_accuracy: 0.9260\n",
            "Epoch 157/200\n",
            "2/2 [==============================] - 0s 66ms/step - loss: 0.2196 - outSev_loss: 2.1703 - outLabel_loss: 0.1169 - outSev_outSev_outSev_root_mean_squared_error: 1.6507 - outLabel_accuracy: 0.9530 - val_loss: 0.3132 - val_outSev_loss: 2.9030 - val_outLabel_loss: 0.1769 - val_outSev_outSev_outSev_root_mean_squared_error: 1.7038 - val_outLabel_accuracy: 0.9260\n",
            "Epoch 158/200\n",
            "2/2 [==============================] - 0s 48ms/step - loss: 0.1912 - outSev_loss: 2.0313 - outLabel_loss: 0.0943 - outSev_outSev_outSev_root_mean_squared_error: 1.5914 - outLabel_accuracy: 0.9556 - val_loss: 0.3132 - val_outSev_loss: 2.9026 - val_outLabel_loss: 0.1769 - val_outSev_outSev_outSev_root_mean_squared_error: 1.7037 - val_outLabel_accuracy: 0.9260\n",
            "Epoch 159/200\n",
            "2/2 [==============================] - 0s 63ms/step - loss: 0.2062 - outSev_loss: 2.0990 - outLabel_loss: 0.1065 - outSev_outSev_outSev_root_mean_squared_error: 1.6040 - outLabel_accuracy: 0.9588 - val_loss: 0.3132 - val_outSev_loss: 2.9029 - val_outLabel_loss: 0.1769 - val_outSev_outSev_outSev_root_mean_squared_error: 1.7038 - val_outLabel_accuracy: 0.9260\n",
            "Epoch 160/200\n",
            "2/2 [==============================] - 0s 48ms/step - loss: 0.2270 - outSev_loss: 2.1966 - outLabel_loss: 0.1233 - outSev_outSev_outSev_root_mean_squared_error: 1.6563 - outLabel_accuracy: 0.9504 - val_loss: 0.3132 - val_outSev_loss: 2.9021 - val_outLabel_loss: 0.1769 - val_outSev_outSev_outSev_root_mean_squared_error: 1.7036 - val_outLabel_accuracy: 0.9260\n",
            "Epoch 161/200\n",
            "2/2 [==============================] - 0s 62ms/step - loss: 0.2010 - outSev_loss: 1.9851 - outLabel_loss: 0.1071 - outSev_outSev_outSev_root_mean_squared_error: 1.5749 - outLabel_accuracy: 0.9568 - val_loss: 0.3131 - val_outSev_loss: 2.9022 - val_outLabel_loss: 0.1768 - val_outSev_outSev_outSev_root_mean_squared_error: 1.7036 - val_outLabel_accuracy: 0.9260\n",
            "Epoch 162/200\n",
            "2/2 [==============================] - 0s 61ms/step - loss: 0.2090 - outSev_loss: 2.1817 - outLabel_loss: 0.1052 - outSev_outSev_outSev_root_mean_squared_error: 1.6404 - outLabel_accuracy: 0.9573 - val_loss: 0.3131 - val_outSev_loss: 2.9020 - val_outLabel_loss: 0.1768 - val_outSev_outSev_outSev_root_mean_squared_error: 1.7035 - val_outLabel_accuracy: 0.9260\n",
            "Epoch 163/200\n",
            "2/2 [==============================] - 0s 62ms/step - loss: 0.1997 - outSev_loss: 2.1316 - outLabel_loss: 0.0981 - outSev_outSev_outSev_root_mean_squared_error: 1.6321 - outLabel_accuracy: 0.9576 - val_loss: 0.3131 - val_outSev_loss: 2.9024 - val_outLabel_loss: 0.1768 - val_outSev_outSev_outSev_root_mean_squared_error: 1.7036 - val_outLabel_accuracy: 0.9260\n",
            "Epoch 164/200\n",
            "2/2 [==============================] - 0s 62ms/step - loss: 0.2114 - outSev_loss: 2.1667 - outLabel_loss: 0.1085 - outSev_outSev_outSev_root_mean_squared_error: 1.6291 - outLabel_accuracy: 0.9533 - val_loss: 0.3130 - val_outSev_loss: 2.9021 - val_outLabel_loss: 0.1767 - val_outSev_outSev_outSev_root_mean_squared_error: 1.7036 - val_outLabel_accuracy: 0.9260\n",
            "Epoch 165/200\n",
            "2/2 [==============================] - 0s 63ms/step - loss: 0.2105 - outSev_loss: 2.1441 - outLabel_loss: 0.1088 - outSev_outSev_outSev_root_mean_squared_error: 1.6285 - outLabel_accuracy: 0.9600 - val_loss: 0.3130 - val_outSev_loss: 2.9023 - val_outLabel_loss: 0.1767 - val_outSev_outSev_outSev_root_mean_squared_error: 1.7036 - val_outLabel_accuracy: 0.9260\n",
            "Epoch 166/200\n",
            "2/2 [==============================] - 0s 46ms/step - loss: 0.1899 - outSev_loss: 2.0682 - outLabel_loss: 0.0910 - outSev_outSev_outSev_root_mean_squared_error: 1.6105 - outLabel_accuracy: 0.9629 - val_loss: 0.3129 - val_outSev_loss: 2.9022 - val_outLabel_loss: 0.1767 - val_outSev_outSev_outSev_root_mean_squared_error: 1.7036 - val_outLabel_accuracy: 0.9260\n",
            "Epoch 167/200\n",
            "2/2 [==============================] - 0s 57ms/step - loss: 0.2148 - outSev_loss: 2.1920 - outLabel_loss: 0.1108 - outSev_outSev_outSev_root_mean_squared_error: 1.6380 - outLabel_accuracy: 0.9559 - val_loss: 0.3130 - val_outSev_loss: 2.9022 - val_outLabel_loss: 0.1767 - val_outSev_outSev_outSev_root_mean_squared_error: 1.7036 - val_outLabel_accuracy: 0.9260\n",
            "Epoch 168/200\n",
            "2/2 [==============================] - 0s 60ms/step - loss: 0.2114 - outSev_loss: 2.1626 - outLabel_loss: 0.1087 - outSev_outSev_outSev_root_mean_squared_error: 1.6242 - outLabel_accuracy: 0.9571 - val_loss: 0.3130 - val_outSev_loss: 2.9021 - val_outLabel_loss: 0.1768 - val_outSev_outSev_outSev_root_mean_squared_error: 1.7036 - val_outLabel_accuracy: 0.9260\n",
            "Epoch 169/200\n",
            "2/2 [==============================] - 0s 49ms/step - loss: 0.2017 - outSev_loss: 2.1103 - outLabel_loss: 0.1013 - outSev_outSev_outSev_root_mean_squared_error: 1.6281 - outLabel_accuracy: 0.9585 - val_loss: 0.3130 - val_outSev_loss: 2.9025 - val_outLabel_loss: 0.1767 - val_outSev_outSev_outSev_root_mean_squared_error: 1.7037 - val_outLabel_accuracy: 0.9260\n",
            "Epoch 170/200\n",
            "2/2 [==============================] - 0s 47ms/step - loss: 0.2106 - outSev_loss: 2.1317 - outLabel_loss: 0.1095 - outSev_outSev_outSev_root_mean_squared_error: 1.6185 - outLabel_accuracy: 0.9588 - val_loss: 0.3131 - val_outSev_loss: 2.9022 - val_outLabel_loss: 0.1768 - val_outSev_outSev_outSev_root_mean_squared_error: 1.7036 - val_outLabel_accuracy: 0.9260\n",
            "Epoch 171/200\n",
            "2/2 [==============================] - 0s 57ms/step - loss: 0.2169 - outSev_loss: 2.2026 - outLabel_loss: 0.1124 - outSev_outSev_outSev_root_mean_squared_error: 1.6553 - outLabel_accuracy: 0.9518 - val_loss: 0.3131 - val_outSev_loss: 2.9020 - val_outLabel_loss: 0.1768 - val_outSev_outSev_outSev_root_mean_squared_error: 1.7035 - val_outLabel_accuracy: 0.9260\n",
            "Epoch 172/200\n",
            "2/2 [==============================] - 0s 59ms/step - loss: 0.1869 - outSev_loss: 2.0905 - outLabel_loss: 0.0867 - outSev_outSev_outSev_root_mean_squared_error: 1.6154 - outLabel_accuracy: 0.9666 - val_loss: 0.3131 - val_outSev_loss: 2.9021 - val_outLabel_loss: 0.1768 - val_outSev_outSev_outSev_root_mean_squared_error: 1.7036 - val_outLabel_accuracy: 0.9260\n",
            "Epoch 173/200\n",
            "2/2 [==============================] - 0s 64ms/step - loss: 0.2172 - outSev_loss: 2.1383 - outLabel_loss: 0.1161 - outSev_outSev_outSev_root_mean_squared_error: 1.6286 - outLabel_accuracy: 0.9544 - val_loss: 0.3131 - val_outSev_loss: 2.9017 - val_outLabel_loss: 0.1769 - val_outSev_outSev_outSev_root_mean_squared_error: 1.7034 - val_outLabel_accuracy: 0.9260\n",
            "Epoch 174/200\n",
            "2/2 [==============================] - 0s 61ms/step - loss: 0.2130 - outSev_loss: 2.2602 - outLabel_loss: 0.1053 - outSev_outSev_outSev_root_mean_squared_error: 1.6622 - outLabel_accuracy: 0.9594 - val_loss: 0.3131 - val_outSev_loss: 2.9024 - val_outLabel_loss: 0.1769 - val_outSev_outSev_outSev_root_mean_squared_error: 1.7036 - val_outLabel_accuracy: 0.9260\n",
            "Epoch 175/200\n",
            "2/2 [==============================] - 0s 61ms/step - loss: 0.2151 - outSev_loss: 2.1533 - outLabel_loss: 0.1131 - outSev_outSev_outSev_root_mean_squared_error: 1.6255 - outLabel_accuracy: 0.9576 - val_loss: 0.3131 - val_outSev_loss: 2.9025 - val_outLabel_loss: 0.1768 - val_outSev_outSev_outSev_root_mean_squared_error: 1.7037 - val_outLabel_accuracy: 0.9260\n",
            "Epoch 176/200\n",
            "2/2 [==============================] - 0s 47ms/step - loss: 0.2098 - outSev_loss: 2.1778 - outLabel_loss: 0.1062 - outSev_outSev_outSev_root_mean_squared_error: 1.6493 - outLabel_accuracy: 0.9501 - val_loss: 0.3132 - val_outSev_loss: 2.9025 - val_outLabel_loss: 0.1769 - val_outSev_outSev_outSev_root_mean_squared_error: 1.7037 - val_outLabel_accuracy: 0.9260\n",
            "Epoch 177/200\n",
            "2/2 [==============================] - 0s 47ms/step - loss: 0.2059 - outSev_loss: 2.0744 - outLabel_loss: 0.1075 - outSev_outSev_outSev_root_mean_squared_error: 1.5992 - outLabel_accuracy: 0.9573 - val_loss: 0.3131 - val_outSev_loss: 2.9023 - val_outLabel_loss: 0.1768 - val_outSev_outSev_outSev_root_mean_squared_error: 1.7036 - val_outLabel_accuracy: 0.9260\n",
            "Epoch 178/200\n",
            "2/2 [==============================] - 0s 47ms/step - loss: 0.2060 - outSev_loss: 2.1484 - outLabel_loss: 0.1038 - outSev_outSev_outSev_root_mean_squared_error: 1.6258 - outLabel_accuracy: 0.9594 - val_loss: 0.3131 - val_outSev_loss: 2.9019 - val_outLabel_loss: 0.1768 - val_outSev_outSev_outSev_root_mean_squared_error: 1.7035 - val_outLabel_accuracy: 0.9260\n",
            "Epoch 179/200\n",
            "2/2 [==============================] - 0s 65ms/step - loss: 0.2221 - outSev_loss: 2.1761 - outLabel_loss: 0.1193 - outSev_outSev_outSev_root_mean_squared_error: 1.6385 - outLabel_accuracy: 0.9553 - val_loss: 0.3131 - val_outSev_loss: 2.9018 - val_outLabel_loss: 0.1769 - val_outSev_outSev_outSev_root_mean_squared_error: 1.7035 - val_outLabel_accuracy: 0.9260\n",
            "Epoch 180/200\n",
            "2/2 [==============================] - 0s 47ms/step - loss: 0.2066 - outSev_loss: 2.1923 - outLabel_loss: 0.1021 - outSev_outSev_outSev_root_mean_squared_error: 1.6407 - outLabel_accuracy: 0.9544 - val_loss: 0.3131 - val_outSev_loss: 2.9017 - val_outLabel_loss: 0.1769 - val_outSev_outSev_outSev_root_mean_squared_error: 1.7035 - val_outLabel_accuracy: 0.9260\n",
            "Epoch 181/200\n",
            "2/2 [==============================] - 0s 47ms/step - loss: 0.1984 - outSev_loss: 2.0414 - outLabel_loss: 0.1014 - outSev_outSev_outSev_root_mean_squared_error: 1.5917 - outLabel_accuracy: 0.9579 - val_loss: 0.3131 - val_outSev_loss: 2.9025 - val_outLabel_loss: 0.1768 - val_outSev_outSev_outSev_root_mean_squared_error: 1.7037 - val_outLabel_accuracy: 0.9260\n",
            "Epoch 182/200\n",
            "2/2 [==============================] - 0s 47ms/step - loss: 0.2065 - outSev_loss: 2.1693 - outLabel_loss: 0.1032 - outSev_outSev_outSev_root_mean_squared_error: 1.6303 - outLabel_accuracy: 0.9585 - val_loss: 0.3130 - val_outSev_loss: 2.9017 - val_outLabel_loss: 0.1768 - val_outSev_outSev_outSev_root_mean_squared_error: 1.7034 - val_outLabel_accuracy: 0.9260\n",
            "Epoch 183/200\n",
            "2/2 [==============================] - 0s 65ms/step - loss: 0.1961 - outSev_loss: 2.1108 - outLabel_loss: 0.0953 - outSev_outSev_outSev_root_mean_squared_error: 1.6216 - outLabel_accuracy: 0.9608 - val_loss: 0.3130 - val_outSev_loss: 2.9022 - val_outLabel_loss: 0.1768 - val_outSev_outSev_outSev_root_mean_squared_error: 1.7036 - val_outLabel_accuracy: 0.9260\n",
            "Epoch 184/200\n",
            "2/2 [==============================] - 0s 46ms/step - loss: 0.1931 - outSev_loss: 2.0877 - outLabel_loss: 0.0933 - outSev_outSev_outSev_root_mean_squared_error: 1.5977 - outLabel_accuracy: 0.9620 - val_loss: 0.3130 - val_outSev_loss: 2.9021 - val_outLabel_loss: 0.1767 - val_outSev_outSev_outSev_root_mean_squared_error: 1.7036 - val_outLabel_accuracy: 0.9260\n",
            "Epoch 185/200\n",
            "2/2 [==============================] - 0s 48ms/step - loss: 0.2028 - outSev_loss: 2.1492 - outLabel_loss: 0.1003 - outSev_outSev_outSev_root_mean_squared_error: 1.6262 - outLabel_accuracy: 0.9608 - val_loss: 0.3130 - val_outSev_loss: 2.9021 - val_outLabel_loss: 0.1767 - val_outSev_outSev_outSev_root_mean_squared_error: 1.7036 - val_outLabel_accuracy: 0.9260\n",
            "Epoch 186/200\n",
            "2/2 [==============================] - 0s 76ms/step - loss: 0.2035 - outSev_loss: 2.0983 - outLabel_loss: 0.1038 - outSev_outSev_outSev_root_mean_squared_error: 1.6188 - outLabel_accuracy: 0.9568 - val_loss: 0.3130 - val_outSev_loss: 2.9021 - val_outLabel_loss: 0.1767 - val_outSev_outSev_outSev_root_mean_squared_error: 1.7036 - val_outLabel_accuracy: 0.9260\n",
            "Epoch 187/200\n",
            "2/2 [==============================] - 0s 48ms/step - loss: 0.1929 - outSev_loss: 1.9923 - outLabel_loss: 0.0982 - outSev_outSev_outSev_root_mean_squared_error: 1.5776 - outLabel_accuracy: 0.9620 - val_loss: 0.3130 - val_outSev_loss: 2.9017 - val_outLabel_loss: 0.1768 - val_outSev_outSev_outSev_root_mean_squared_error: 1.7034 - val_outLabel_accuracy: 0.9260\n",
            "Epoch 188/200\n",
            "2/2 [==============================] - 0s 48ms/step - loss: 0.2139 - outSev_loss: 2.1520 - outLabel_loss: 0.1119 - outSev_outSev_outSev_root_mean_squared_error: 1.6245 - outLabel_accuracy: 0.9573 - val_loss: 0.3129 - val_outSev_loss: 2.9017 - val_outLabel_loss: 0.1767 - val_outSev_outSev_outSev_root_mean_squared_error: 1.7034 - val_outLabel_accuracy: 0.9260\n",
            "Epoch 189/200\n",
            "2/2 [==============================] - 0s 48ms/step - loss: 0.2065 - outSev_loss: 2.1671 - outLabel_loss: 0.1033 - outSev_outSev_outSev_root_mean_squared_error: 1.6342 - outLabel_accuracy: 0.9588 - val_loss: 0.3130 - val_outSev_loss: 2.9017 - val_outLabel_loss: 0.1767 - val_outSev_outSev_outSev_root_mean_squared_error: 1.7034 - val_outLabel_accuracy: 0.9260\n",
            "Epoch 190/200\n",
            "2/2 [==============================] - 0s 48ms/step - loss: 0.2092 - outSev_loss: 2.1425 - outLabel_loss: 0.1074 - outSev_outSev_outSev_root_mean_squared_error: 1.6294 - outLabel_accuracy: 0.9556 - val_loss: 0.3130 - val_outSev_loss: 2.9019 - val_outLabel_loss: 0.1767 - val_outSev_outSev_outSev_root_mean_squared_error: 1.7035 - val_outLabel_accuracy: 0.9260\n",
            "Epoch 191/200\n",
            "2/2 [==============================] - 0s 48ms/step - loss: 0.2133 - outSev_loss: 2.1562 - outLabel_loss: 0.1110 - outSev_outSev_outSev_root_mean_squared_error: 1.6347 - outLabel_accuracy: 0.9530 - val_loss: 0.3129 - val_outSev_loss: 2.9019 - val_outLabel_loss: 0.1767 - val_outSev_outSev_outSev_root_mean_squared_error: 1.7035 - val_outLabel_accuracy: 0.9260\n",
            "Epoch 192/200\n",
            "2/2 [==============================] - 0s 53ms/step - loss: 0.2166 - outSev_loss: 2.1713 - outLabel_loss: 0.1137 - outSev_outSev_outSev_root_mean_squared_error: 1.6451 - outLabel_accuracy: 0.9579 - val_loss: 0.3130 - val_outSev_loss: 2.9018 - val_outLabel_loss: 0.1768 - val_outSev_outSev_outSev_root_mean_squared_error: 1.7035 - val_outLabel_accuracy: 0.9260\n",
            "Epoch 193/200\n",
            "2/2 [==============================] - 0s 66ms/step - loss: 0.1963 - outSev_loss: 2.0183 - outLabel_loss: 0.1004 - outSev_outSev_outSev_root_mean_squared_error: 1.5894 - outLabel_accuracy: 0.9579 - val_loss: 0.3129 - val_outSev_loss: 2.9016 - val_outLabel_loss: 0.1767 - val_outSev_outSev_outSev_root_mean_squared_error: 1.7034 - val_outLabel_accuracy: 0.9260\n",
            "Epoch 194/200\n",
            "2/2 [==============================] - 0s 60ms/step - loss: 0.2034 - outSev_loss: 2.0239 - outLabel_loss: 0.1076 - outSev_outSev_outSev_root_mean_squared_error: 1.5922 - outLabel_accuracy: 0.9652 - val_loss: 0.3129 - val_outSev_loss: 2.9015 - val_outLabel_loss: 0.1767 - val_outSev_outSev_outSev_root_mean_squared_error: 1.7034 - val_outLabel_accuracy: 0.9260\n",
            "Epoch 195/200\n",
            "2/2 [==============================] - 0s 47ms/step - loss: 0.2187 - outSev_loss: 2.1053 - outLabel_loss: 0.1194 - outSev_outSev_outSev_root_mean_squared_error: 1.6167 - outLabel_accuracy: 0.9539 - val_loss: 0.3129 - val_outSev_loss: 2.9012 - val_outLabel_loss: 0.1767 - val_outSev_outSev_outSev_root_mean_squared_error: 1.7033 - val_outLabel_accuracy: 0.9260\n",
            "Epoch 196/200\n",
            "2/2 [==============================] - 0s 48ms/step - loss: 0.2072 - outSev_loss: 2.0790 - outLabel_loss: 0.1087 - outSev_outSev_outSev_root_mean_squared_error: 1.6061 - outLabel_accuracy: 0.9576 - val_loss: 0.3129 - val_outSev_loss: 2.9010 - val_outLabel_loss: 0.1767 - val_outSev_outSev_outSev_root_mean_squared_error: 1.7032 - val_outLabel_accuracy: 0.9260\n",
            "Epoch 197/200\n",
            "2/2 [==============================] - 0s 61ms/step - loss: 0.1959 - outSev_loss: 2.0746 - outLabel_loss: 0.0970 - outSev_outSev_outSev_root_mean_squared_error: 1.6092 - outLabel_accuracy: 0.9608 - val_loss: 0.3129 - val_outSev_loss: 2.9009 - val_outLabel_loss: 0.1767 - val_outSev_outSev_outSev_root_mean_squared_error: 1.7032 - val_outLabel_accuracy: 0.9260\n",
            "Epoch 198/200\n",
            "2/2 [==============================] - 0s 57ms/step - loss: 0.2140 - outSev_loss: 2.1572 - outLabel_loss: 0.1118 - outSev_outSev_outSev_root_mean_squared_error: 1.6293 - outLabel_accuracy: 0.9541 - val_loss: 0.3128 - val_outSev_loss: 2.9011 - val_outLabel_loss: 0.1766 - val_outSev_outSev_outSev_root_mean_squared_error: 1.7033 - val_outLabel_accuracy: 0.9260\n",
            "Epoch 199/200\n",
            "2/2 [==============================] - 0s 52ms/step - loss: 0.2136 - outSev_loss: 2.1403 - outLabel_loss: 0.1122 - outSev_outSev_outSev_root_mean_squared_error: 1.6273 - outLabel_accuracy: 0.9547 - val_loss: 0.3128 - val_outSev_loss: 2.9010 - val_outLabel_loss: 0.1766 - val_outSev_outSev_outSev_root_mean_squared_error: 1.7032 - val_outLabel_accuracy: 0.9260\n",
            "Epoch 200/200\n",
            "2/2 [==============================] - 0s 64ms/step - loss: 0.1996 - outSev_loss: 2.0769 - outLabel_loss: 0.1008 - outSev_outSev_outSev_root_mean_squared_error: 1.6033 - outLabel_accuracy: 0.9556 - val_loss: 0.3128 - val_outSev_loss: 2.9010 - val_outLabel_loss: 0.1766 - val_outSev_outSev_outSev_root_mean_squared_error: 1.7032 - val_outLabel_accuracy: 0.9260\n"
          ]
        }
      ],
      "source": [
        "history=model.fit(input_train,[output_sev,output_label],\n",
        "                  validation_data=(input_Val,[output_sev_val,output_label_val]),\n",
        "                  epochs=200, batch_size=2048,sample_weight=sample_weight)"
      ]
    },
    {
      "cell_type": "markdown",
      "metadata": {
        "id": "toTOorbsJavR"
      },
      "source": [
        "#Evaluate the model using Learning Curve\n",
        "In this section of the notebook, we will plot the learning curve to visualize the performance of our model as the training data size increases. The learning curve provides valuable insights into how well our model generalizes and whether it is underfitting or overfitting.\n",
        "\n",
        "First we implementing learning plot."
      ]
    },
    {
      "cell_type": "code",
      "execution_count": null,
      "metadata": {
        "id": "SdpqyTIMBOL0"
      },
      "outputs": [],
      "source": [
        "def LC_plt(train,val, StartPoint=1,train_Label='Training Loss',\n",
        "           val_Label='Validation Loss',title='Training and Validation Loss',ylabel='Loss'):\n",
        "  # Get the training and validation loss from the history object\n",
        "  # Get the training and validation loss from the 50th epoch onwards\n",
        "  training_loss = train[StartPoint:]  # Adjust index based on 0-indexing\n",
        "  validation_loss = val[StartPoint:]  # Adjust index based on 0-indexing\n",
        "\n",
        "  # Plot the learning curve\n",
        "  epochs = range(StartPoint, len(training_loss) + StartPoint)  # Adjust the starting epoch\n",
        "  plt.plot(epochs, training_loss, 'r', label=train_Label)\n",
        "  plt.plot(epochs, validation_loss, 'b', label=val_Label)\n",
        "  plt.title(title)\n",
        "  plt.xlabel('Epochs')\n",
        "  plt.ylabel(ylabel)\n",
        "  plt.legend()\n",
        "  plt.show()\n"
      ]
    },
    {
      "cell_type": "code",
      "execution_count": null,
      "metadata": {
        "colab": {
          "base_uri": "https://localhost:8080/"
        },
        "id": "wbRusoLTa90i",
        "outputId": "977cfd96-4e05-4686-c952-4976c38cddcf"
      },
      "outputs": [
        {
          "output_type": "stream",
          "name": "stdout",
          "text": [
            "33/33 [==============================] - 0s 2ms/step\n",
            "Accuracy:  0.90416265\n"
          ]
        }
      ],
      "source": [
        "# import tensorflow as tf\n",
        "\n",
        "# Assuming 'y_true' is your true labels and 'y_pred' are your model's predictions\n",
        "# y_true = output_label_val\n",
        "# y_pred = model.predict(input_Val)[1]\n",
        "y_true=tf.argmax(output_label_Test,axis=1)\n",
        "y_pred=tf.argmax(model.predict(input_Test)[1],axis=1)\n",
        "# Initialize the Accuracy object\n",
        "accuracy_obj = tf.keras.metrics.Accuracy()\n",
        "\n",
        "# Update state with predictions and ground truth labels\n",
        "accuracy_obj.update_state(y_true, y_pred)\n",
        "\n",
        "# Get the accuracy value\n",
        "accuracy_value = accuracy_obj.result().numpy()\n",
        "\n",
        "print(\"Accuracy: \", accuracy_value)"
      ]
    },
    {
      "cell_type": "code",
      "execution_count": null,
      "metadata": {
        "id": "vnRyKIhSFA5X"
      },
      "outputs": [],
      "source": [
        "losses_outlabel_train=history.history['outLabel_loss']\n",
        "losses_outlabel_val=history.history['val_outLabel_loss']\n",
        "\n",
        "losses_outsev_train=history.history['outSev_loss']\n",
        "losses_outsev_val=history.history['val_outSev_loss']\n",
        "\n",
        "losses__train=history.history['loss']\n",
        "losses_val=history.history['val_loss']\n",
        "\n",
        "accuracy_val=history.history['val_outLabel_accuracy']\n",
        "accuracy_train=history.history['outLabel_accuracy']"
      ]
    },
    {
      "cell_type": "code",
      "execution_count": null,
      "metadata": {
        "colab": {
          "base_uri": "https://localhost:8080/",
          "height": 472
        },
        "id": "LDyV2gh0kzHd",
        "outputId": "d413fc23-313f-4d14-82a6-cdd811e3cef0"
      },
      "outputs": [
        {
          "output_type": "display_data",
          "data": {
            "text/plain": [
              "<Figure size 640x480 with 1 Axes>"
            ],
            "image/png": "[encoded data removed]"
          },
          "metadata": {}
        }
      ],
      "source": [
        "LC_plt(accuracy_train,accuracy_val,StartPoint=1,train_Label='Training accuracy',\n",
        "           val_Label='Validation accuracy',title='Training and Validation accuracy',ylabel='accuracy')"
      ]
    },
    {
      "cell_type": "code",
      "execution_count": null,
      "metadata": {
        "colab": {
          "base_uri": "https://localhost:8080/",
          "height": 472
        },
        "id": "StQkueNOERS0",
        "outputId": "02971a8e-8993-44ef-9f42-09b848240869"
      },
      "outputs": [
        {
          "output_type": "display_data",
          "data": {
            "text/plain": [
              "<Figure size 640x480 with 1 Axes>"
            ],
            "image/png": "[encoded data removed]"
          },
          "metadata": {}
        }
      ],
      "source": [
        "LC_plt(losses_outlabel_train,losses_outlabel_val,StartPoint=1)"
      ]
    },
    {
      "cell_type": "code",
      "execution_count": null,
      "metadata": {
        "colab": {
          "base_uri": "https://localhost:8080/",
          "height": 472
        },
        "id": "lFJUQLkR-vuT",
        "outputId": "7c763e8d-ea94-4340-cf7c-b12bb64f8fbd"
      },
      "outputs": [
        {
          "output_type": "display_data",
          "data": {
            "text/plain": [
              "<Figure size 640x480 with 1 Axes>"
            ],
            "image/png": "[encoded data removed]"
          },
          "metadata": {}
        }
      ],
      "source": [
        "LC_plt(losses_outsev_train,losses_outsev_val,StartPoint=1)"
      ]
    },
    {
      "cell_type": "code",
      "execution_count": null,
      "metadata": {
        "colab": {
          "base_uri": "https://localhost:8080/",
          "height": 472
        },
        "id": "DCQbAVWHGVoO",
        "outputId": "22163f80-571e-46ab-ccd8-3c4f1d607843"
      },
      "outputs": [
        {
          "output_type": "display_data",
          "data": {
            "text/plain": [
              "<Figure size 640x480 with 1 Axes>"
            ],
            "image/png": "[encoded data removed]"
          },
          "metadata": {}
        }
      ],
      "source": [
        "LC_plt(losses__train,losses_val,StartPoint=1)"
      ]
    }
  ],
  "metadata": {
    "accelerator": "GPU",
    "colab": {
      "provenance": []
    },
    "kernelspec": {
      "display_name": "Python 3",
      "name": "python3"
    },
    "language_info": {
      "name": "python"
    }
  },
  "nbformat": 4,
  "nbformat_minor": 0
}